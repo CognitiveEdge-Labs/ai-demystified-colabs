{
  "nbformat": 4,
  "nbformat_minor": 5,
  "metadata": {
    "colab": {
      "provenance": []
    },
    "kernelspec": {
      "name": "python3",
      "display_name": "Python 3"
    }
  },
  "cells": [
    {
      "cell_type": "markdown",
      "metadata": {
        "id": "uMmz54Cjos9m"
      },
      "source": [
        "# Lab 07: RAG Implementation\n",
        "\n",
        "\n",
        "**AI Demystified: Decoding Models, Compute, and Connectivity**\n",
        "\n",
        "\n",
        "Welcome! In this lab you will explore **Retrieval Augmented Generation (RAG)**. It is a simple but powerful approach where documents are stored as embeddings, the **most relevant ones** are retrieved for a query, and a language model uses them to generate an answer..\n",
        "\n",
        "We will:\n",
        "- Encode a few knowledge base documents as embeddings\n",
        "- Build a FAISS index for retrieval\n",
        "- Ask a query, retrieve top documents, and use them as context\n",
        "- Generate an answer with FLAN-T5\n",
        "\n",
        "Each cell has only one statement and a brief comment."
      ],
      "id": "uMmz54Cjos9m"
    },
    {
      "cell_type": "markdown",
      "metadata": {
        "id": "dxLqxMiVos9t"
      },
      "source": [
        "## Step 1: Install dependencies"
      ],
      "id": "dxLqxMiVos9t"
    },
    {
      "cell_type": "code",
      "metadata": {
        "id": "Zj56_2eqos9u"
      },
      "source": [
        "!pip -q install sentence-transformers faiss-cpu transformers torch scikit-learn  # install required libraries"
      ],
      "id": "Zj56_2eqos9u",
      "execution_count": 73,
      "outputs": []
    },
    {
      "cell_type": "markdown",
      "metadata": {
        "id": "BZcc_Zslos9y"
      },
      "source": [
        "## Step 2: Imports"
      ],
      "id": "BZcc_Zslos9y"
    },
    {
      "cell_type": "code",
      "metadata": {
        "id": "1XWIdThXos9z"
      },
      "source": [
        "from sentence_transformers import SentenceTransformer  # embedding model"
      ],
      "id": "1XWIdThXos9z",
      "execution_count": 74,
      "outputs": []
    },
    {
      "cell_type": "code",
      "metadata": {
        "id": "rBoLZlP7os9z"
      },
      "source": [
        "import faiss  # vector index"
      ],
      "id": "rBoLZlP7os9z",
      "execution_count": 75,
      "outputs": []
    },
    {
      "cell_type": "code",
      "metadata": {
        "id": "Xr-aQ47aos90"
      },
      "source": [
        "from transformers import AutoTokenizer, AutoModelForSeq2SeqLM  # flan-t5 model"
      ],
      "id": "Xr-aQ47aos90",
      "execution_count": 76,
      "outputs": []
    },
    {
      "cell_type": "markdown",
      "metadata": {
        "id": "XgwtWOUdos91"
      },
      "source": [
        "## Step 3: Knowledge base"
      ],
      "id": "XgwtWOUdos91"
    },
    {
      "cell_type": "code",
      "metadata": {
        "id": "-A9wfoASos91"
      },
      "source": [
        "docs = [\"The AI Demystified class is scheduled on the 12th of September 2025.\",\n",
        "        \"The capital of India is New Delhi.\",\n",
        "        \"The class location is Cisco office, Mumbai.\",\n",
        "        \"The instructor is Jagdish Madhavan.\"]  # small KB"
      ],
      "id": "-A9wfoASos91",
      "execution_count": 147,
      "outputs": []
    },
    {
      "cell_type": "markdown",
      "metadata": {
        "id": "c534Ht-Pos92"
      },
      "source": [
        "## Step 4: Embedding model"
      ],
      "id": "c534Ht-Pos92"
    },
    {
      "cell_type": "code",
      "metadata": {
        "id": "xmhucDPcos92"
      },
      "source": [
        "embedder = SentenceTransformer(\"all-MiniLM-L6-v2\")  # load sentence-transformer"
      ],
      "id": "xmhucDPcos92",
      "execution_count": 148,
      "outputs": []
    },
    {
      "cell_type": "markdown",
      "metadata": {
        "id": "dF6pmsKLos92"
      },
      "source": [
        "## Step 5: Encode documents"
      ],
      "id": "dF6pmsKLos92"
    },
    {
      "cell_type": "code",
      "metadata": {
        "id": "70xeZDOEos93"
      },
      "source": [
        "doc_embeddings = embedder.encode(docs)  # vectorize docs"
      ],
      "id": "70xeZDOEos93",
      "execution_count": 149,
      "outputs": []
    },
    {
      "cell_type": "markdown",
      "metadata": {
        "id": "oos6BUiMos93"
      },
      "source": [
        "## Step 6: Build FAISS index"
      ],
      "id": "oos6BUiMos93"
    },
    {
      "cell_type": "code",
      "metadata": {
        "id": "KjXKFNeEos93"
      },
      "source": [
        "index = faiss.IndexFlatL2(doc_embeddings.shape[1])  # index with L2 distance"
      ],
      "id": "KjXKFNeEos93",
      "execution_count": 150,
      "outputs": []
    },
    {
      "cell_type": "code",
      "metadata": {
        "id": "RW7bA37gos93"
      },
      "source": [
        "index.add(doc_embeddings)  # add doc vectors"
      ],
      "id": "RW7bA37gos93",
      "execution_count": 151,
      "outputs": []
    },
    {
      "cell_type": "markdown",
      "metadata": {
        "id": "Ry1Hl9IMos94"
      },
      "source": [
        "## Step 7: Load FLAN-T5 model"
      ],
      "id": "Ry1Hl9IMos94"
    },
    {
      "cell_type": "code",
      "metadata": {
        "id": "sPVpV-oYos94"
      },
      "source": [
        "tokenizer = AutoTokenizer.from_pretrained(\"google/flan-t5-base\")  # tokenizer"
      ],
      "id": "sPVpV-oYos94",
      "execution_count": 152,
      "outputs": []
    },
    {
      "cell_type": "code",
      "metadata": {
        "id": "NvfLPEh1os94"
      },
      "source": [
        "model = AutoModelForSeq2SeqLM.from_pretrained(\"google/flan-t5-base\")  # seq2seq model"
      ],
      "id": "NvfLPEh1os94",
      "execution_count": 153,
      "outputs": []
    },
    {
      "cell_type": "markdown",
      "metadata": {
        "id": "ZEnMHZZYos94"
      },
      "source": [
        "## Step 8: Ask a question"
      ],
      "id": "ZEnMHZZYos94"
    },
    {
      "cell_type": "code",
      "metadata": {
        "id": "UAIR9WzBos95"
      },
      "source": [
        "query = \"When is the AI Demystified class?\"  # user query"
      ],
      "id": "UAIR9WzBos95",
      "execution_count": 154,
      "outputs": []
    },
    {
      "cell_type": "code",
      "metadata": {
        "id": "LWsoYde4os95"
      },
      "source": [
        "query_vec = embedder.encode([query])  # embed query"
      ],
      "id": "LWsoYde4os95",
      "execution_count": 155,
      "outputs": []
    },
    {
      "cell_type": "code",
      "metadata": {
        "id": "yPEOO1X0os95"
      },
      "source": [
        "scores, idxs = index.search(query_vec, k=3)  # retrieve top 3 docs"
      ],
      "id": "yPEOO1X0os95",
      "execution_count": 156,
      "outputs": []
    },
    {
      "cell_type": "code",
      "source": [
        "print(scores)"
      ],
      "metadata": {
        "colab": {
          "base_uri": "https://localhost:8080/"
        },
        "id": "XV_6Cn_d3F-f",
        "outputId": "4d3b8258-0834-4e9f-cb2c-9c64e45f7207"
      },
      "id": "XV_6Cn_d3F-f",
      "execution_count": 157,
      "outputs": [
        {
          "output_type": "stream",
          "name": "stdout",
          "text": [
            "[[0.4283187 1.5005453 1.520394 ]]\n"
          ]
        }
      ]
    },
    {
      "cell_type": "code",
      "source": [
        "print(idxs)"
      ],
      "metadata": {
        "colab": {
          "base_uri": "https://localhost:8080/"
        },
        "id": "ZZdab1Ko3INN",
        "outputId": "ae087ee1-41d3-49c4-f4b8-cc54e747bca6"
      },
      "id": "ZZdab1Ko3INN",
      "execution_count": 158,
      "outputs": [
        {
          "output_type": "stream",
          "name": "stdout",
          "text": [
            "[[0 2 3]]\n"
          ]
        }
      ]
    },
    {
      "cell_type": "code",
      "metadata": {
        "id": "qgpWuUisos95"
      },
      "source": [
        "retrieved = [docs[i] for i in idxs[0]]  # fetch retrieved docs"
      ],
      "id": "qgpWuUisos95",
      "execution_count": 159,
      "outputs": []
    },
    {
      "cell_type": "code",
      "source": [
        "print(retrieved)"
      ],
      "metadata": {
        "colab": {
          "base_uri": "https://localhost:8080/"
        },
        "id": "SJjrR1Uo3U8n",
        "outputId": "4b4aaed7-dfe6-4b13-9843-d0200ac3e8d5"
      },
      "id": "SJjrR1Uo3U8n",
      "execution_count": 160,
      "outputs": [
        {
          "output_type": "stream",
          "name": "stdout",
          "text": [
            "['The AI Demystified class is scheduled on the 12th of September 2025.', 'The class location is Cisco office, Mumbai.', 'The instructor is Jagdish Madhavan.']\n"
          ]
        }
      ]
    },
    {
      "cell_type": "markdown",
      "metadata": {
        "id": "zvHDQq-Uos95"
      },
      "source": [
        "## Step 9: Build prompt"
      ],
      "id": "zvHDQq-Uos95"
    },
    {
      "cell_type": "code",
      "metadata": {
        "id": "LRWPMCLbos95"
      },
      "source": [
        "context = \" \".join(retrieved)  # join retrieved docs"
      ],
      "id": "LRWPMCLbos95",
      "execution_count": 161,
      "outputs": []
    },
    {
      "cell_type": "code",
      "metadata": {
        "id": "AAdSiq58os96"
      },
      "source": [
        "prompt = f\"Answer the question based on the following notes: {context}. Question: {query}. After giving the fact, add one short helpful suggestion or related remark.\""
      ],
      "id": "AAdSiq58os96",
      "execution_count": 162,
      "outputs": []
    },
    {
      "cell_type": "markdown",
      "metadata": {
        "id": "97pwzLunos96"
      },
      "source": [
        "## Step 10: Generate answer"
      ],
      "id": "97pwzLunos96"
    },
    {
      "cell_type": "code",
      "metadata": {
        "id": "6ZlM2-5Qos96"
      },
      "source": [
        "inputs = tokenizer(prompt, return_tensors=\"pt\")  # tokenize prompt"
      ],
      "id": "6ZlM2-5Qos96",
      "execution_count": 163,
      "outputs": []
    },
    {
      "cell_type": "code",
      "metadata": {
        "id": "yHQLK10Yos96"
      },
      "source": [
        "outputs = model.generate(**inputs, max_new_tokens=100)  # run model"
      ],
      "id": "yHQLK10Yos96",
      "execution_count": 164,
      "outputs": []
    },
    {
      "cell_type": "code",
      "metadata": {
        "id": "kuFBSI0yos96"
      },
      "source": [
        "answer = tokenizer.decode(outputs[0], skip_special_tokens=True)  # decode result"
      ],
      "id": "kuFBSI0yos96",
      "execution_count": 165,
      "outputs": []
    },
    {
      "cell_type": "code",
      "metadata": {
        "colab": {
          "base_uri": "https://localhost:8080/"
        },
        "id": "wMZw0W5los96",
        "outputId": "d3f1408a-0479-4fdf-9d08-e606f5ecf235"
      },
      "source": [
        "print(answer)  # show answer"
      ],
      "id": "wMZw0W5los96",
      "execution_count": 166,
      "outputs": [
        {
          "output_type": "stream",
          "name": "stdout",
          "text": [
            "The AI Demystified class is scheduled on the 12th of September 2025.\n"
          ]
        }
      ]
    },
    {
      "cell_type": "markdown",
      "metadata": {
        "id": "ugB7Vuv5os97"
      },
      "source": [
        "---\n",
        "### ✅ Wrap-up\n",
        "- We encoded docs into embeddings and indexed them with FAISS\n",
        "- A query was embedded and matched against the docs\n",
        "- Retrieved docs were combined into a context prompt\n",
        "- The model generated an answer using both the query and context"
      ],
      "id": "ugB7Vuv5os97"
    }
  ]
}