{
  "cells": [
    {
      "cell_type": "markdown",
      "metadata": {
        "id": "vcgGhDN0ZUVz"
      },
      "source": [
        "\n",
        "# Lab-02 — PyTorch Tensors\n",
        "**AI Demystified: Decoding Models, Compute, and Connectivity**\n",
        "\n",
        "Welcome! In this lab you will explore PyTorch **tensors**. They are powerful data structures that combine numerical arrays with automatic differentiation for deep learning.\n",
        "\n",
        "\n",
        "**Goals:**\n",
        "\n",
        "- (0D, 1D, 2D) tensors\n",
        "- `dtype` specified at creation (no dtype conversion)\n",
        "- `zeros`, `randn`, `shape`, `ndim`\n",
        "- Autograd (with `t = 3`)\n",
        "- Reshaping matrices\n",
        "- Matrix multiplication\n",
        "- 3D & 4D tensors (via `randn`)\n",
        "- Broadcasting\n",
        "- Batch matrix multiplication\n",
        "- Creating on GPU and moving to device\n"
      ],
      "id": "vcgGhDN0ZUVz"
    },
    {
      "cell_type": "markdown",
      "metadata": {
        "id": "uBjsE3vhZUV2"
      },
      "source": [
        "## 1) Setup\n",
        "\n",
        "**Note:** Tensors are the n-dimensional arrays used by deep-learning frameworks. In this lab we use **PyTorch**, but the core ideas—**shape**, **rank/ndim**, **dtype**, **broadcasting**, and **matrix multiplication** are essentially the same in **TensorFlow**. The main differences are just the APIs (e.g., `torch.tensor/zeros/randn` vs `tf.constant/zeros/random.normal`) and autograd (`y.backward()` in PyTorch vs `tf.GradientTape` in TensorFlow). So you can translate these examples to TensorFlow with minimal changes."
      ],
      "id": "uBjsE3vhZUV2"
    },
    {
      "cell_type": "code",
      "metadata": {
        "id": "sYm2R_7QZUV3"
      },
      "source": [
        "import torch"
      ],
      "id": "sYm2R_7QZUV3",
      "execution_count": null,
      "outputs": []
    },
    {
      "cell_type": "code",
      "metadata": {
        "id": "FNW4RwqpZUV4"
      },
      "source": [
        "print(torch.__version__)"
      ],
      "id": "FNW4RwqpZUV4",
      "execution_count": null,
      "outputs": []
    },
    {
      "cell_type": "code",
      "metadata": {
        "id": "iqnd8UgyZUV5"
      },
      "source": [
        "device = \"cuda\" if torch.cuda.is_available() else \"cpu\""
      ],
      "id": "iqnd8UgyZUV5",
      "execution_count": null,
      "outputs": []
    },
    {
      "cell_type": "code",
      "metadata": {
        "id": "1LrBmKLJZUV5"
      },
      "source": [
        "print(device)"
      ],
      "id": "1LrBmKLJZUV5",
      "execution_count": null,
      "outputs": []
    },
    {
      "cell_type": "markdown",
      "metadata": {
        "id": "fPvHIkVQZUV5"
      },
      "source": [
        "## 2) (0D, 1D, 2D) tensors — simple shapes & dtypes"
      ],
      "id": "fPvHIkVQZUV5"
    },
    {
      "cell_type": "code",
      "metadata": {
        "id": "mZavbHm0ZUV5"
      },
      "source": [
        "t0 = torch.tensor(3.0)  # 0-D (scalar), float32 by default for floats"
      ],
      "id": "mZavbHm0ZUV5",
      "execution_count": null,
      "outputs": []
    },
    {
      "cell_type": "code",
      "metadata": {
        "id": "v4WHx7qeZUV6"
      },
      "source": [
        "print(t0.shape)"
      ],
      "id": "v4WHx7qeZUV6",
      "execution_count": null,
      "outputs": []
    },
    {
      "cell_type": "code",
      "metadata": {
        "id": "pQ8U7VIiZUV6"
      },
      "source": [
        "print(t0.ndim)"
      ],
      "id": "pQ8U7VIiZUV6",
      "execution_count": null,
      "outputs": []
    },
    {
      "cell_type": "code",
      "metadata": {
        "id": "saSsH5O3ZUV7"
      },
      "source": [
        "t1 = torch.tensor([1, 2, 3])  # 1-D (vector), int64 by default for ints"
      ],
      "id": "saSsH5O3ZUV7",
      "execution_count": null,
      "outputs": []
    },
    {
      "cell_type": "code",
      "metadata": {
        "id": "cFCpr54iZUV7"
      },
      "source": [
        "print(t1.shape)"
      ],
      "id": "cFCpr54iZUV7",
      "execution_count": null,
      "outputs": []
    },
    {
      "cell_type": "code",
      "metadata": {
        "id": "Oy4adO4CZUV8"
      },
      "source": [
        "print(t1.ndim)"
      ],
      "id": "Oy4adO4CZUV8",
      "execution_count": null,
      "outputs": []
    },
    {
      "cell_type": "code",
      "metadata": {
        "id": "DqT7RDHWZUV8"
      },
      "source": [
        "t2 = torch.tensor([[1.0, 2.0], [3.0, 4.0]])"
      ],
      "id": "DqT7RDHWZUV8",
      "execution_count": null,
      "outputs": []
    },
    {
      "cell_type": "code",
      "metadata": {
        "id": "dkttlKcKZUV9"
      },
      "source": [
        "print(t2.shape)"
      ],
      "id": "dkttlKcKZUV9",
      "execution_count": null,
      "outputs": []
    },
    {
      "cell_type": "code",
      "metadata": {
        "id": "M-5qRhzgZUV-"
      },
      "source": [
        "print(t2.ndim)"
      ],
      "id": "M-5qRhzgZUV-",
      "execution_count": null,
      "outputs": []
    },
    {
      "cell_type": "code",
      "metadata": {
        "id": "YKQGpet8ZUV-"
      },
      "source": [
        "z = torch.zeros(2, 3)"
      ],
      "id": "YKQGpet8ZUV-",
      "execution_count": null,
      "outputs": []
    },
    {
      "cell_type": "code",
      "metadata": {
        "id": "fy15JypyZUV_"
      },
      "source": [
        "print(z.dtype)"
      ],
      "id": "fy15JypyZUV_",
      "execution_count": null,
      "outputs": []
    },
    {
      "cell_type": "code",
      "metadata": {
        "id": "v4M71XY0ZUWA"
      },
      "source": [
        "z64 = torch.zeros(2, 3, dtype=torch.float64)"
      ],
      "id": "v4M71XY0ZUWA",
      "execution_count": null,
      "outputs": []
    },
    {
      "cell_type": "code",
      "metadata": {
        "id": "_t88mTaQZUWA"
      },
      "source": [
        "print(z64.dtype)"
      ],
      "id": "_t88mTaQZUWA",
      "execution_count": null,
      "outputs": []
    },
    {
      "cell_type": "code",
      "metadata": {
        "id": "wiPC0PCbZUWA"
      },
      "source": [
        "r = torch.randn(2, 3)"
      ],
      "id": "wiPC0PCbZUWA",
      "execution_count": null,
      "outputs": []
    },
    {
      "cell_type": "code",
      "source": [
        "print(r)"
      ],
      "metadata": {
        "id": "RNRu82v6dTWP"
      },
      "id": "RNRu82v6dTWP",
      "execution_count": null,
      "outputs": []
    },
    {
      "cell_type": "code",
      "metadata": {
        "id": "tnf0G51kZUWA"
      },
      "source": [
        "print(r.shape)"
      ],
      "id": "tnf0G51kZUWA",
      "execution_count": null,
      "outputs": []
    },
    {
      "cell_type": "code",
      "metadata": {
        "id": "vkXBHwJ6ZUWA"
      },
      "source": [
        "print(r.ndim)"
      ],
      "id": "vkXBHwJ6ZUWA",
      "execution_count": null,
      "outputs": []
    },
    {
      "cell_type": "markdown",
      "metadata": {
        "id": "2LkJcFR5ZUWA"
      },
      "source": [
        "## 3) Autograd (x = 3)"
      ],
      "id": "2LkJcFR5ZUWA"
    },
    {
      "cell_type": "code",
      "metadata": {
        "id": "4Qbu0sXZZUWB"
      },
      "source": [
        "x = torch.tensor([3.0], requires_grad=True)"
      ],
      "id": "4Qbu0sXZZUWB",
      "execution_count": null,
      "outputs": []
    },
    {
      "cell_type": "code",
      "metadata": {
        "id": "xizH0oMJZUWB"
      },
      "source": [
        "y = x**2"
      ],
      "id": "xizH0oMJZUWB",
      "execution_count": null,
      "outputs": []
    },
    {
      "cell_type": "code",
      "metadata": {
        "id": "Hko5fmepZUWB"
      },
      "source": [
        "print(y)"
      ],
      "id": "Hko5fmepZUWB",
      "execution_count": null,
      "outputs": []
    },
    {
      "cell_type": "code",
      "metadata": {
        "id": "hS22gsFDZUWB"
      },
      "source": [
        "y.backward()"
      ],
      "id": "hS22gsFDZUWB",
      "execution_count": null,
      "outputs": []
    },
    {
      "cell_type": "code",
      "metadata": {
        "id": "qjlCWTX3ZUWB"
      },
      "source": [
        "print(x.grad)"
      ],
      "id": "qjlCWTX3ZUWB",
      "execution_count": null,
      "outputs": []
    },
    {
      "cell_type": "markdown",
      "metadata": {
        "id": "RFMo82dtZUWB"
      },
      "source": [
        "## 4) Reshaping matrices"
      ],
      "id": "RFMo82dtZUWB"
    },
    {
      "cell_type": "code",
      "metadata": {
        "id": "oOf_VX3_ZUWC"
      },
      "source": [
        "A = torch.arange(6.0)"
      ],
      "id": "oOf_VX3_ZUWC",
      "execution_count": null,
      "outputs": []
    },
    {
      "cell_type": "code",
      "source": [
        "print(A)"
      ],
      "metadata": {
        "id": "UAHbcqLfez35"
      },
      "id": "UAHbcqLfez35",
      "execution_count": null,
      "outputs": []
    },
    {
      "cell_type": "code",
      "metadata": {
        "id": "RVN6gYUNZUWC"
      },
      "source": [
        "print(A.shape)"
      ],
      "id": "RVN6gYUNZUWC",
      "execution_count": null,
      "outputs": []
    },
    {
      "cell_type": "code",
      "metadata": {
        "id": "efEY0LicZUWC"
      },
      "source": [
        "A2 = A.reshape(2, 3)"
      ],
      "id": "efEY0LicZUWC",
      "execution_count": null,
      "outputs": []
    },
    {
      "cell_type": "code",
      "source": [
        "print(A2)"
      ],
      "metadata": {
        "id": "tMKK98ohe_40"
      },
      "id": "tMKK98ohe_40",
      "execution_count": null,
      "outputs": []
    },
    {
      "cell_type": "code",
      "metadata": {
        "id": "hc4cI3J2ZUWC"
      },
      "source": [
        "print(A2.shape)"
      ],
      "id": "hc4cI3J2ZUWC",
      "execution_count": null,
      "outputs": []
    },
    {
      "cell_type": "markdown",
      "metadata": {
        "id": "52wV6Wj8ZUWC"
      },
      "source": [
        "## 5) Matrix multiplication"
      ],
      "id": "52wV6Wj8ZUWC"
    },
    {
      "cell_type": "code",
      "metadata": {
        "id": "HJOBFPy2ZUWC"
      },
      "source": [
        "M = torch.tensor([[1.0, 2.0], [3.0, 4.0]])"
      ],
      "id": "HJOBFPy2ZUWC",
      "execution_count": null,
      "outputs": []
    },
    {
      "cell_type": "code",
      "metadata": {
        "id": "G-jGsn5hZUWD"
      },
      "source": [
        "N = torch.tensor([[5.0, 6.0], [7.0, 8.0]])"
      ],
      "id": "G-jGsn5hZUWD",
      "execution_count": null,
      "outputs": []
    },
    {
      "cell_type": "code",
      "metadata": {
        "id": "lxEhWSXGZUWD"
      },
      "source": [
        "P = M @ N"
      ],
      "id": "lxEhWSXGZUWD",
      "execution_count": null,
      "outputs": []
    },
    {
      "cell_type": "code",
      "metadata": {
        "id": "zckyrtuSZUWD"
      },
      "source": [
        "print(P)"
      ],
      "id": "zckyrtuSZUWD",
      "execution_count": null,
      "outputs": []
    },
    {
      "cell_type": "code",
      "metadata": {
        "id": "6zJHMzvQZUWa"
      },
      "source": [
        "print(P.shape)"
      ],
      "id": "6zJHMzvQZUWa",
      "execution_count": null,
      "outputs": []
    },
    {
      "cell_type": "markdown",
      "metadata": {
        "id": "z-k1f0pPZUWb"
      },
      "source": [
        "## 6) 3D & 4D tensors (via randn)"
      ],
      "id": "z-k1f0pPZUWb"
    },
    {
      "cell_type": "code",
      "metadata": {
        "id": "CnSvg18BZUWb"
      },
      "source": [
        "T3 = torch.randn(2, 3, 4)  # e.g., (batch=2, features=3, time=4)"
      ],
      "id": "CnSvg18BZUWb",
      "execution_count": null,
      "outputs": []
    },
    {
      "cell_type": "code",
      "source": [
        "print(T3)"
      ],
      "metadata": {
        "id": "EYn9xK33fJSY"
      },
      "id": "EYn9xK33fJSY",
      "execution_count": null,
      "outputs": []
    },
    {
      "cell_type": "code",
      "metadata": {
        "id": "kD4I9l8sZUWb"
      },
      "source": [
        "print(T3.shape)"
      ],
      "id": "kD4I9l8sZUWb",
      "execution_count": null,
      "outputs": []
    },
    {
      "cell_type": "code",
      "metadata": {
        "id": "B5TPM0mxZUWb"
      },
      "source": [
        "print(T3.ndim)"
      ],
      "id": "B5TPM0mxZUWb",
      "execution_count": null,
      "outputs": []
    },
    {
      "cell_type": "code",
      "metadata": {
        "id": "gQQaeaHrZUWb"
      },
      "source": [
        "T4 = torch.randn(2, 3, 4, 4)  # e.g., (B, C, H, W)"
      ],
      "id": "gQQaeaHrZUWb",
      "execution_count": null,
      "outputs": []
    },
    {
      "cell_type": "code",
      "source": [
        "print(T4)"
      ],
      "metadata": {
        "id": "qvUrf_xEfhIV"
      },
      "id": "qvUrf_xEfhIV",
      "execution_count": null,
      "outputs": []
    },
    {
      "cell_type": "code",
      "metadata": {
        "id": "lpvgj3mhZUWb"
      },
      "source": [
        "print(T4.shape)"
      ],
      "id": "lpvgj3mhZUWb",
      "execution_count": null,
      "outputs": []
    },
    {
      "cell_type": "code",
      "metadata": {
        "id": "iKAcDkBSZUWc"
      },
      "source": [
        "print(T4.ndim)"
      ],
      "id": "iKAcDkBSZUWc",
      "execution_count": null,
      "outputs": []
    },
    {
      "cell_type": "markdown",
      "metadata": {
        "id": "My8Qa-JYZUWc"
      },
      "source": [
        "## 7) Linear model — broadcasting:  y_hat = W @ x + b"
      ],
      "id": "My8Qa-JYZUWc"
    },
    {
      "cell_type": "code",
      "metadata": {
        "id": "Q55ocMbQZUWd"
      },
      "source": [
        "x = torch.tensor([[1],[2],[3]])"
      ],
      "id": "Q55ocMbQZUWd",
      "execution_count": null,
      "outputs": []
    },
    {
      "cell_type": "code",
      "metadata": {
        "id": "LUkPNUFKZUWd"
      },
      "source": [
        "print(x.shape)"
      ],
      "id": "LUkPNUFKZUWd",
      "execution_count": null,
      "outputs": []
    },
    {
      "cell_type": "code",
      "metadata": {
        "id": "4bcszheeZUWd"
      },
      "source": [
        "W = torch.tensor([[1,1,1],[1,1,1]])"
      ],
      "id": "4bcszheeZUWd",
      "execution_count": null,
      "outputs": []
    },
    {
      "cell_type": "code",
      "metadata": {
        "id": "vEq2Ds0FZUWe"
      },
      "source": [
        "print(W.shape)"
      ],
      "id": "vEq2Ds0FZUWe",
      "execution_count": null,
      "outputs": []
    },
    {
      "cell_type": "code",
      "source": [
        "print(W)"
      ],
      "metadata": {
        "id": "ZhVBDNCXgSy6"
      },
      "id": "ZhVBDNCXgSy6",
      "execution_count": null,
      "outputs": []
    },
    {
      "cell_type": "code",
      "metadata": {
        "id": "wTLSERryZUWe"
      },
      "source": [
        "b = torch.tensor(2)"
      ],
      "id": "wTLSERryZUWe",
      "execution_count": null,
      "outputs": []
    },
    {
      "cell_type": "code",
      "metadata": {
        "id": "wq89sQL2ZUWe"
      },
      "source": [
        "print(b.shape)"
      ],
      "id": "wq89sQL2ZUWe",
      "execution_count": null,
      "outputs": []
    },
    {
      "cell_type": "code",
      "metadata": {
        "id": "Wm_09Jv4ZUWf"
      },
      "source": [
        "y_hat = W @ x + b"
      ],
      "id": "Wm_09Jv4ZUWf",
      "execution_count": null,
      "outputs": []
    },
    {
      "cell_type": "code",
      "source": [
        "print(y_hat)"
      ],
      "metadata": {
        "id": "MHfr-YTag20R"
      },
      "id": "MHfr-YTag20R",
      "execution_count": null,
      "outputs": []
    },
    {
      "cell_type": "code",
      "metadata": {
        "id": "em6f5sYxZUWf"
      },
      "source": [
        "print(y_hat.shape)"
      ],
      "id": "em6f5sYxZUWf",
      "execution_count": null,
      "outputs": []
    },
    {
      "cell_type": "markdown",
      "metadata": {
        "id": "Z4c6JTJXZUWf"
      },
      "source": [
        "## 8) Batch matrix multiplication"
      ],
      "id": "Z4c6JTJXZUWf"
    },
    {
      "cell_type": "code",
      "metadata": {
        "id": "qJ8sybI1ZUWf"
      },
      "source": [
        "A_b = torch.randn(4, 2, 3)  # (B=4, n=2, k=3)"
      ],
      "id": "qJ8sybI1ZUWf",
      "execution_count": null,
      "outputs": []
    },
    {
      "cell_type": "code",
      "metadata": {
        "id": "CUdTLY43ZUWg"
      },
      "source": [
        "B_b = torch.randn(4, 3, 5)  # (B=4, k=3, m=5)"
      ],
      "id": "CUdTLY43ZUWg",
      "execution_count": null,
      "outputs": []
    },
    {
      "cell_type": "code",
      "metadata": {
        "id": "XY-03uqLZUWg"
      },
      "source": [
        "C_b = torch.bmm(A_b, B_b)  # -> (4, 2, 5)"
      ],
      "id": "XY-03uqLZUWg",
      "execution_count": null,
      "outputs": []
    },
    {
      "cell_type": "code",
      "metadata": {
        "id": "VN7_wmxFZUWg"
      },
      "source": [
        "print(C_b.shape)"
      ],
      "id": "VN7_wmxFZUWg",
      "execution_count": null,
      "outputs": []
    },
    {
      "cell_type": "markdown",
      "metadata": {
        "id": "MiHx7km4ZUWg"
      },
      "source": [
        "## 9) Device — create on device and move existing tensor (no dtype conversion)"
      ],
      "id": "MiHx7km4ZUWg"
    },
    {
      "cell_type": "code",
      "metadata": {
        "id": "Pzk5fLyKZUWg"
      },
      "source": [
        "x_dev = torch.zeros(2, 2, device=device)"
      ],
      "id": "Pzk5fLyKZUWg",
      "execution_count": null,
      "outputs": []
    },
    {
      "cell_type": "code",
      "metadata": {
        "id": "VpiYi4y6ZUWg"
      },
      "source": [
        "print(x_dev.device)"
      ],
      "id": "VpiYi4y6ZUWg",
      "execution_count": null,
      "outputs": []
    },
    {
      "cell_type": "code",
      "metadata": {
        "id": "Q7FDYH9TZUWh"
      },
      "source": [
        "y_cpu = torch.randn(2, 2)"
      ],
      "id": "Q7FDYH9TZUWh",
      "execution_count": null,
      "outputs": []
    },
    {
      "cell_type": "code",
      "metadata": {
        "id": "PlYX9-rTZUWh"
      },
      "source": [
        "y_dev = y_cpu.to(device)"
      ],
      "id": "PlYX9-rTZUWh",
      "execution_count": null,
      "outputs": []
    },
    {
      "cell_type": "code",
      "metadata": {
        "id": "Sg9b0G5KZUWh"
      },
      "source": [
        "print(y_dev.device)"
      ],
      "id": "Sg9b0G5KZUWh",
      "execution_count": null,
      "outputs": []
    }
  ],
  "metadata": {
    "colab": {
      "provenance": []
    },
    "kernelspec": {
      "name": "python3",
      "display_name": "Python 3"
    },
    "language_info": {
      "name": "python",
      "version": "3.x"
    }
  },
  "nbformat": 4,
  "nbformat_minor": 5
}