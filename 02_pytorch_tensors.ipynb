{
  "cells": [
    {
      "cell_type": "markdown",
      "metadata": {
        "id": "vcgGhDN0ZUVz"
      },
      "source": [
        "\n",
        "# Lab-02 — PyTorch Tensors (Colab)\n",
        "**AI Demystified: Decoding Models, Compute, and Connectivity**\n",
        "\n",
        "**Goals:**\n",
        "\n",
        "- (0D, 1D, 2D) tensors\n",
        "- `dtype` specified at creation (no dtype conversion)\n",
        "- `zeros`, `randn`, `shape`, `ndim`\n",
        "- Autograd (with `t = 3`)\n",
        "- Reshaping matrices\n",
        "- Matrix multiplication\n",
        "- 3D & 4D tensors (via `randn`)\n",
        "- Broadcasting\n",
        "- Batch matrix multiplication\n",
        "- Creating on GPU and moving to device\n"
      ],
      "id": "vcgGhDN0ZUVz"
    },
    {
      "cell_type": "markdown",
      "metadata": {
        "id": "uBjsE3vhZUV2"
      },
      "source": [
        "## 1) Setup\n",
        "\n",
        "**Note:** Tensors are the n-dimensional arrays used by deep-learning frameworks. In this lab we use **PyTorch**, but the core ideas—**shape**, **rank/ndim**, **dtype**, **broadcasting**, and **matrix multiplication** are essentially the same in **TensorFlow**. The main differences are just the APIs (e.g., `torch.tensor/zeros/randn` vs `tf.constant/zeros/random.normal`) and autograd (`y.backward()` in PyTorch vs `tf.GradientTape` in TensorFlow). So you can translate these examples to TensorFlow with minimal changes."
      ],
      "id": "uBjsE3vhZUV2"
    },
    {
      "cell_type": "code",
      "metadata": {
        "id": "sYm2R_7QZUV3"
      },
      "source": [
        "import torch"
      ],
      "id": "sYm2R_7QZUV3",
      "execution_count": 1,
      "outputs": []
    },
    {
      "cell_type": "code",
      "metadata": {
        "colab": {
          "base_uri": "https://localhost:8080/"
        },
        "id": "FNW4RwqpZUV4",
        "outputId": "6c1e5f5c-f9d2-4cdd-c92a-d065a382cf4f"
      },
      "source": [
        "print(torch.__version__)"
      ],
      "id": "FNW4RwqpZUV4",
      "execution_count": 2,
      "outputs": [
        {
          "output_type": "stream",
          "name": "stdout",
          "text": [
            "2.8.0+cu126\n"
          ]
        }
      ]
    },
    {
      "cell_type": "code",
      "metadata": {
        "id": "iqnd8UgyZUV5"
      },
      "source": [
        "device = \"cuda\" if torch.cuda.is_available() else \"cpu\""
      ],
      "id": "iqnd8UgyZUV5",
      "execution_count": 3,
      "outputs": []
    },
    {
      "cell_type": "code",
      "metadata": {
        "colab": {
          "base_uri": "https://localhost:8080/"
        },
        "id": "1LrBmKLJZUV5",
        "outputId": "2dea2360-7501-4405-8952-4312802325eb"
      },
      "source": [
        "print(device)"
      ],
      "id": "1LrBmKLJZUV5",
      "execution_count": 4,
      "outputs": [
        {
          "output_type": "stream",
          "name": "stdout",
          "text": [
            "cpu\n"
          ]
        }
      ]
    },
    {
      "cell_type": "markdown",
      "metadata": {
        "id": "fPvHIkVQZUV5"
      },
      "source": [
        "## 2) (0D, 1D, 2D) tensors — simple shapes & dtypes"
      ],
      "id": "fPvHIkVQZUV5"
    },
    {
      "cell_type": "code",
      "metadata": {
        "id": "mZavbHm0ZUV5"
      },
      "source": [
        "t0 = torch.tensor(3.0)  # 0-D (scalar), float32 by default for floats"
      ],
      "id": "mZavbHm0ZUV5",
      "execution_count": 5,
      "outputs": []
    },
    {
      "cell_type": "code",
      "metadata": {
        "colab": {
          "base_uri": "https://localhost:8080/"
        },
        "id": "v4WHx7qeZUV6",
        "outputId": "0d2d0b06-428e-4657-80c2-bf0432396f8f"
      },
      "source": [
        "print(t0.shape)"
      ],
      "id": "v4WHx7qeZUV6",
      "execution_count": 6,
      "outputs": [
        {
          "output_type": "stream",
          "name": "stdout",
          "text": [
            "torch.Size([])\n"
          ]
        }
      ]
    },
    {
      "cell_type": "code",
      "metadata": {
        "colab": {
          "base_uri": "https://localhost:8080/"
        },
        "id": "pQ8U7VIiZUV6",
        "outputId": "ae16c5bc-b337-4d5a-8355-0485be508c9c"
      },
      "source": [
        "print(t0.ndim)"
      ],
      "id": "pQ8U7VIiZUV6",
      "execution_count": 7,
      "outputs": [
        {
          "output_type": "stream",
          "name": "stdout",
          "text": [
            "0\n"
          ]
        }
      ]
    },
    {
      "cell_type": "code",
      "metadata": {
        "id": "saSsH5O3ZUV7"
      },
      "source": [
        "t1 = torch.tensor([1, 2, 3])  # 1-D (vector), int64 by default for ints"
      ],
      "id": "saSsH5O3ZUV7",
      "execution_count": 8,
      "outputs": []
    },
    {
      "cell_type": "code",
      "metadata": {
        "colab": {
          "base_uri": "https://localhost:8080/"
        },
        "id": "cFCpr54iZUV7",
        "outputId": "a9e39254-af04-499a-c6e9-da30402c609f"
      },
      "source": [
        "print(t1.shape)"
      ],
      "id": "cFCpr54iZUV7",
      "execution_count": 9,
      "outputs": [
        {
          "output_type": "stream",
          "name": "stdout",
          "text": [
            "torch.Size([3])\n"
          ]
        }
      ]
    },
    {
      "cell_type": "code",
      "metadata": {
        "colab": {
          "base_uri": "https://localhost:8080/"
        },
        "id": "Oy4adO4CZUV8",
        "outputId": "d4be8de7-c922-4ab8-d015-3add4b7e0aec"
      },
      "source": [
        "print(t1.ndim)"
      ],
      "id": "Oy4adO4CZUV8",
      "execution_count": 10,
      "outputs": [
        {
          "output_type": "stream",
          "name": "stdout",
          "text": [
            "1\n"
          ]
        }
      ]
    },
    {
      "cell_type": "code",
      "metadata": {
        "id": "DqT7RDHWZUV8"
      },
      "source": [
        "t2 = torch.tensor([[1.0, 2.0], [3.0, 4.0]])"
      ],
      "id": "DqT7RDHWZUV8",
      "execution_count": 11,
      "outputs": []
    },
    {
      "cell_type": "code",
      "metadata": {
        "colab": {
          "base_uri": "https://localhost:8080/"
        },
        "id": "dkttlKcKZUV9",
        "outputId": "edc5cef2-bc29-4a29-c24f-721d23e5de60"
      },
      "source": [
        "print(t2.shape)"
      ],
      "id": "dkttlKcKZUV9",
      "execution_count": 12,
      "outputs": [
        {
          "output_type": "stream",
          "name": "stdout",
          "text": [
            "torch.Size([2, 2])\n"
          ]
        }
      ]
    },
    {
      "cell_type": "code",
      "metadata": {
        "colab": {
          "base_uri": "https://localhost:8080/"
        },
        "id": "M-5qRhzgZUV-",
        "outputId": "cd1d9d3e-b936-4905-c1f3-a5c96b30f934"
      },
      "source": [
        "print(t2.ndim)"
      ],
      "id": "M-5qRhzgZUV-",
      "execution_count": 13,
      "outputs": [
        {
          "output_type": "stream",
          "name": "stdout",
          "text": [
            "2\n"
          ]
        }
      ]
    },
    {
      "cell_type": "code",
      "metadata": {
        "id": "YKQGpet8ZUV-"
      },
      "source": [
        "z = torch.zeros(2, 3)"
      ],
      "id": "YKQGpet8ZUV-",
      "execution_count": 14,
      "outputs": []
    },
    {
      "cell_type": "code",
      "metadata": {
        "colab": {
          "base_uri": "https://localhost:8080/"
        },
        "id": "fy15JypyZUV_",
        "outputId": "464d19b2-5c04-41ef-e79f-d11a15080f8b"
      },
      "source": [
        "print(z.dtype)"
      ],
      "id": "fy15JypyZUV_",
      "execution_count": 15,
      "outputs": [
        {
          "output_type": "stream",
          "name": "stdout",
          "text": [
            "torch.float32\n"
          ]
        }
      ]
    },
    {
      "cell_type": "code",
      "metadata": {
        "id": "v4M71XY0ZUWA"
      },
      "source": [
        "z64 = torch.zeros(2, 3, dtype=torch.float64)"
      ],
      "id": "v4M71XY0ZUWA",
      "execution_count": 16,
      "outputs": []
    },
    {
      "cell_type": "code",
      "metadata": {
        "colab": {
          "base_uri": "https://localhost:8080/"
        },
        "id": "_t88mTaQZUWA",
        "outputId": "f1f8b876-0fd9-425d-b01d-9a3cca80a3ec"
      },
      "source": [
        "print(z64.dtype)"
      ],
      "id": "_t88mTaQZUWA",
      "execution_count": 17,
      "outputs": [
        {
          "output_type": "stream",
          "name": "stdout",
          "text": [
            "torch.float64\n"
          ]
        }
      ]
    },
    {
      "cell_type": "code",
      "metadata": {
        "id": "wiPC0PCbZUWA"
      },
      "source": [
        "r = torch.randn(2, 3)"
      ],
      "id": "wiPC0PCbZUWA",
      "execution_count": 18,
      "outputs": []
    },
    {
      "cell_type": "code",
      "source": [
        "print(r)"
      ],
      "metadata": {
        "colab": {
          "base_uri": "https://localhost:8080/"
        },
        "id": "RNRu82v6dTWP",
        "outputId": "c32858ba-c36c-4ffc-cd03-42456682f8d8"
      },
      "id": "RNRu82v6dTWP",
      "execution_count": 21,
      "outputs": [
        {
          "output_type": "stream",
          "name": "stdout",
          "text": [
            "tensor([[-1.0741,  0.5495, -0.1293],\n",
            "        [-0.4020,  1.3252,  1.6812]])\n"
          ]
        }
      ]
    },
    {
      "cell_type": "code",
      "metadata": {
        "colab": {
          "base_uri": "https://localhost:8080/"
        },
        "id": "tnf0G51kZUWA",
        "outputId": "a861a6bd-b20c-4a85-e44f-6fdb1723c611"
      },
      "source": [
        "print(r.shape)"
      ],
      "id": "tnf0G51kZUWA",
      "execution_count": 19,
      "outputs": [
        {
          "output_type": "stream",
          "name": "stdout",
          "text": [
            "torch.Size([2, 3])\n"
          ]
        }
      ]
    },
    {
      "cell_type": "code",
      "metadata": {
        "colab": {
          "base_uri": "https://localhost:8080/"
        },
        "id": "vkXBHwJ6ZUWA",
        "outputId": "ff068d94-d081-4d87-8357-039fcee94ef7"
      },
      "source": [
        "print(r.ndim)"
      ],
      "id": "vkXBHwJ6ZUWA",
      "execution_count": 22,
      "outputs": [
        {
          "output_type": "stream",
          "name": "stdout",
          "text": [
            "2\n"
          ]
        }
      ]
    },
    {
      "cell_type": "markdown",
      "metadata": {
        "id": "2LkJcFR5ZUWA"
      },
      "source": [
        "## 3) Autograd (x = 3)"
      ],
      "id": "2LkJcFR5ZUWA"
    },
    {
      "cell_type": "code",
      "metadata": {
        "id": "4Qbu0sXZZUWB"
      },
      "source": [
        "x = torch.tensor([3.0], requires_grad=True)"
      ],
      "id": "4Qbu0sXZZUWB",
      "execution_count": 34,
      "outputs": []
    },
    {
      "cell_type": "code",
      "metadata": {
        "id": "xizH0oMJZUWB"
      },
      "source": [
        "y = x**2"
      ],
      "id": "xizH0oMJZUWB",
      "execution_count": 35,
      "outputs": []
    },
    {
      "cell_type": "code",
      "metadata": {
        "colab": {
          "base_uri": "https://localhost:8080/"
        },
        "id": "Hko5fmepZUWB",
        "outputId": "611366a2-333c-4b0b-d88e-eb12ecd49ede"
      },
      "source": [
        "print(y)"
      ],
      "id": "Hko5fmepZUWB",
      "execution_count": 36,
      "outputs": [
        {
          "output_type": "stream",
          "name": "stdout",
          "text": [
            "tensor([9.], grad_fn=<PowBackward0>)\n"
          ]
        }
      ]
    },
    {
      "cell_type": "code",
      "metadata": {
        "id": "hS22gsFDZUWB"
      },
      "source": [
        "y.backward()"
      ],
      "id": "hS22gsFDZUWB",
      "execution_count": 37,
      "outputs": []
    },
    {
      "cell_type": "code",
      "metadata": {
        "colab": {
          "base_uri": "https://localhost:8080/"
        },
        "id": "qjlCWTX3ZUWB",
        "outputId": "d9d35ba3-8351-47f2-c6c7-a5cfea06dba2"
      },
      "source": [
        "print(x.grad)"
      ],
      "id": "qjlCWTX3ZUWB",
      "execution_count": 38,
      "outputs": [
        {
          "output_type": "stream",
          "name": "stdout",
          "text": [
            "tensor([6.])\n"
          ]
        }
      ]
    },
    {
      "cell_type": "markdown",
      "metadata": {
        "id": "RFMo82dtZUWB"
      },
      "source": [
        "## 4) Reshaping matrices"
      ],
      "id": "RFMo82dtZUWB"
    },
    {
      "cell_type": "code",
      "metadata": {
        "id": "oOf_VX3_ZUWC"
      },
      "source": [
        "A = torch.arange(6.0)"
      ],
      "id": "oOf_VX3_ZUWC",
      "execution_count": 39,
      "outputs": []
    },
    {
      "cell_type": "code",
      "source": [
        "print(A)"
      ],
      "metadata": {
        "colab": {
          "base_uri": "https://localhost:8080/"
        },
        "id": "UAHbcqLfez35",
        "outputId": "ade3771c-2944-47a6-8398-29d2537ca8d1"
      },
      "id": "UAHbcqLfez35",
      "execution_count": 40,
      "outputs": [
        {
          "output_type": "stream",
          "name": "stdout",
          "text": [
            "tensor([0., 1., 2., 3., 4., 5.])\n"
          ]
        }
      ]
    },
    {
      "cell_type": "code",
      "metadata": {
        "colab": {
          "base_uri": "https://localhost:8080/"
        },
        "id": "RVN6gYUNZUWC",
        "outputId": "e548a816-34c8-4dfc-c986-2ba33cde777b"
      },
      "source": [
        "print(A.shape)"
      ],
      "id": "RVN6gYUNZUWC",
      "execution_count": 41,
      "outputs": [
        {
          "output_type": "stream",
          "name": "stdout",
          "text": [
            "torch.Size([6])\n"
          ]
        }
      ]
    },
    {
      "cell_type": "code",
      "metadata": {
        "id": "efEY0LicZUWC"
      },
      "source": [
        "A2 = A.reshape(2, 3)"
      ],
      "id": "efEY0LicZUWC",
      "execution_count": 42,
      "outputs": []
    },
    {
      "cell_type": "code",
      "source": [
        "print(A2)"
      ],
      "metadata": {
        "colab": {
          "base_uri": "https://localhost:8080/"
        },
        "id": "tMKK98ohe_40",
        "outputId": "c9675552-e745-4c7a-e44c-f4ce100f80db"
      },
      "id": "tMKK98ohe_40",
      "execution_count": 44,
      "outputs": [
        {
          "output_type": "stream",
          "name": "stdout",
          "text": [
            "tensor([[0., 1., 2.],\n",
            "        [3., 4., 5.]])\n"
          ]
        }
      ]
    },
    {
      "cell_type": "code",
      "metadata": {
        "colab": {
          "base_uri": "https://localhost:8080/"
        },
        "id": "hc4cI3J2ZUWC",
        "outputId": "f75685fd-be37-493a-b032-dba3878efbf6"
      },
      "source": [
        "print(A2.shape)"
      ],
      "id": "hc4cI3J2ZUWC",
      "execution_count": 45,
      "outputs": [
        {
          "output_type": "stream",
          "name": "stdout",
          "text": [
            "torch.Size([2, 3])\n"
          ]
        }
      ]
    },
    {
      "cell_type": "markdown",
      "metadata": {
        "id": "52wV6Wj8ZUWC"
      },
      "source": [
        "## 5) Matrix multiplication"
      ],
      "id": "52wV6Wj8ZUWC"
    },
    {
      "cell_type": "code",
      "metadata": {
        "id": "HJOBFPy2ZUWC"
      },
      "source": [
        "M = torch.tensor([[1.0, 2.0], [3.0, 4.0]])"
      ],
      "id": "HJOBFPy2ZUWC",
      "execution_count": 46,
      "outputs": []
    },
    {
      "cell_type": "code",
      "metadata": {
        "id": "G-jGsn5hZUWD"
      },
      "source": [
        "N = torch.tensor([[5.0, 6.0], [7.0, 8.0]])"
      ],
      "id": "G-jGsn5hZUWD",
      "execution_count": 47,
      "outputs": []
    },
    {
      "cell_type": "code",
      "metadata": {
        "id": "lxEhWSXGZUWD"
      },
      "source": [
        "P = M @ N"
      ],
      "id": "lxEhWSXGZUWD",
      "execution_count": 48,
      "outputs": []
    },
    {
      "cell_type": "code",
      "metadata": {
        "colab": {
          "base_uri": "https://localhost:8080/"
        },
        "id": "zckyrtuSZUWD",
        "outputId": "6dc0f42d-0de6-4484-9122-ee205ef5a900"
      },
      "source": [
        "print(P)"
      ],
      "id": "zckyrtuSZUWD",
      "execution_count": 49,
      "outputs": [
        {
          "output_type": "stream",
          "name": "stdout",
          "text": [
            "tensor([[19., 22.],\n",
            "        [43., 50.]])\n"
          ]
        }
      ]
    },
    {
      "cell_type": "code",
      "metadata": {
        "colab": {
          "base_uri": "https://localhost:8080/"
        },
        "id": "6zJHMzvQZUWa",
        "outputId": "5c69b2e3-5ff9-4836-cd8a-2466f39403fe"
      },
      "source": [
        "print(P.shape)"
      ],
      "id": "6zJHMzvQZUWa",
      "execution_count": 50,
      "outputs": [
        {
          "output_type": "stream",
          "name": "stdout",
          "text": [
            "torch.Size([2, 2])\n"
          ]
        }
      ]
    },
    {
      "cell_type": "markdown",
      "metadata": {
        "id": "z-k1f0pPZUWb"
      },
      "source": [
        "## 6) 3D & 4D tensors (via randn)"
      ],
      "id": "z-k1f0pPZUWb"
    },
    {
      "cell_type": "code",
      "metadata": {
        "id": "CnSvg18BZUWb"
      },
      "source": [
        "T3 = torch.randn(2, 3, 4)  # e.g., (batch=2, features=3, time=4)"
      ],
      "id": "CnSvg18BZUWb",
      "execution_count": 51,
      "outputs": []
    },
    {
      "cell_type": "code",
      "source": [
        "print(T3)"
      ],
      "metadata": {
        "colab": {
          "base_uri": "https://localhost:8080/"
        },
        "id": "EYn9xK33fJSY",
        "outputId": "3bbd5f88-ca64-4c65-8e6b-8a735d7761cb"
      },
      "id": "EYn9xK33fJSY",
      "execution_count": 52,
      "outputs": [
        {
          "output_type": "stream",
          "name": "stdout",
          "text": [
            "tensor([[[ 1.0846, -1.2932, -0.6506,  2.9998],\n",
            "         [-0.7587, -1.2458, -0.2743,  1.3394],\n",
            "         [-0.3426, -0.2543, -1.2460, -0.1131]],\n",
            "\n",
            "        [[-0.1328, -1.7748, -0.4433,  0.8582],\n",
            "         [-0.1563,  0.2075, -0.6709,  0.6556],\n",
            "         [-0.0802, -0.5879, -0.0699, -1.1478]]])\n"
          ]
        }
      ]
    },
    {
      "cell_type": "code",
      "metadata": {
        "colab": {
          "base_uri": "https://localhost:8080/"
        },
        "id": "kD4I9l8sZUWb",
        "outputId": "7a228ecf-b758-41db-df19-486c1353b40e"
      },
      "source": [
        "print(T3.shape)"
      ],
      "id": "kD4I9l8sZUWb",
      "execution_count": 53,
      "outputs": [
        {
          "output_type": "stream",
          "name": "stdout",
          "text": [
            "torch.Size([2, 3, 4])\n"
          ]
        }
      ]
    },
    {
      "cell_type": "code",
      "metadata": {
        "colab": {
          "base_uri": "https://localhost:8080/"
        },
        "id": "B5TPM0mxZUWb",
        "outputId": "d4e59c14-02a8-4f9c-d943-c92564915379"
      },
      "source": [
        "print(T3.ndim)"
      ],
      "id": "B5TPM0mxZUWb",
      "execution_count": 54,
      "outputs": [
        {
          "output_type": "stream",
          "name": "stdout",
          "text": [
            "3\n"
          ]
        }
      ]
    },
    {
      "cell_type": "code",
      "metadata": {
        "id": "gQQaeaHrZUWb"
      },
      "source": [
        "T4 = torch.randn(2, 3, 4, 4)  # e.g., (B, C, H, W)"
      ],
      "id": "gQQaeaHrZUWb",
      "execution_count": 55,
      "outputs": []
    },
    {
      "cell_type": "code",
      "source": [
        "print(T4)"
      ],
      "metadata": {
        "colab": {
          "base_uri": "https://localhost:8080/"
        },
        "id": "qvUrf_xEfhIV",
        "outputId": "3b288a87-7d1f-4cb0-d374-8630e4d44815"
      },
      "id": "qvUrf_xEfhIV",
      "execution_count": 56,
      "outputs": [
        {
          "output_type": "stream",
          "name": "stdout",
          "text": [
            "tensor([[[[-1.7681,  0.1464,  0.2776, -0.2465],\n",
            "          [-0.0905, -0.1455, -1.0003, -1.2384],\n",
            "          [-0.7756, -1.0499, -0.6796, -1.9621],\n",
            "          [-0.0179, -0.2044,  0.4694, -1.0876]],\n",
            "\n",
            "         [[ 0.2970, -1.0472,  0.2812,  0.3607],\n",
            "          [ 1.6135,  0.8149,  1.3851, -0.9138],\n",
            "          [-0.8317, -1.2714, -0.2471,  0.8166],\n",
            "          [-2.5578,  1.0103, -1.6619, -0.8787]],\n",
            "\n",
            "         [[ 1.7232, -1.0503, -0.5287, -0.0732],\n",
            "          [ 2.3384,  1.1444, -0.0885, -0.1991],\n",
            "          [ 1.1045,  1.1621,  0.5842, -1.4379],\n",
            "          [-0.3069,  0.2424,  2.1984,  0.7756]]],\n",
            "\n",
            "\n",
            "        [[[ 1.2193,  1.1503, -1.1929,  0.6111],\n",
            "          [ 0.0470, -0.2154, -0.6514,  1.1084],\n",
            "          [-0.6978, -0.9609,  0.7004,  2.8867],\n",
            "          [-0.7734,  0.5336,  0.7180, -0.0803]],\n",
            "\n",
            "         [[-0.0061, -0.7999, -1.6773, -0.2058],\n",
            "          [ 1.5082,  1.3690,  1.0284,  0.4445],\n",
            "          [ 0.6400,  0.9780,  2.2276, -0.8048],\n",
            "          [ 0.0309, -0.0749,  2.1489, -1.1888]],\n",
            "\n",
            "         [[ 0.6726, -2.5064,  0.4391, -0.5572],\n",
            "          [-0.0107, -0.7228,  1.9092, -0.1387],\n",
            "          [ 0.8827, -0.4677, -0.5142,  0.1813],\n",
            "          [ 0.7764, -2.2985, -1.0845,  1.1755]]]])\n"
          ]
        }
      ]
    },
    {
      "cell_type": "code",
      "metadata": {
        "colab": {
          "base_uri": "https://localhost:8080/"
        },
        "id": "lpvgj3mhZUWb",
        "outputId": "2480035b-b586-4a3d-becf-2ebae3473828"
      },
      "source": [
        "print(T4.shape)"
      ],
      "id": "lpvgj3mhZUWb",
      "execution_count": 57,
      "outputs": [
        {
          "output_type": "stream",
          "name": "stdout",
          "text": [
            "torch.Size([2, 3, 4, 4])\n"
          ]
        }
      ]
    },
    {
      "cell_type": "code",
      "metadata": {
        "colab": {
          "base_uri": "https://localhost:8080/"
        },
        "id": "iKAcDkBSZUWc",
        "outputId": "368be734-b48d-4316-88f5-4db5025d1a9f"
      },
      "source": [
        "print(T4.ndim)"
      ],
      "id": "iKAcDkBSZUWc",
      "execution_count": 58,
      "outputs": [
        {
          "output_type": "stream",
          "name": "stdout",
          "text": [
            "4\n"
          ]
        }
      ]
    },
    {
      "cell_type": "markdown",
      "metadata": {
        "id": "My8Qa-JYZUWc"
      },
      "source": [
        "## 7) Linear model — broadcasting:  y_hat = W @ x + b"
      ],
      "id": "My8Qa-JYZUWc"
    },
    {
      "cell_type": "code",
      "metadata": {
        "id": "Q55ocMbQZUWd"
      },
      "source": [
        "x = torch.tensor([[1],[2],[3]])"
      ],
      "id": "Q55ocMbQZUWd",
      "execution_count": 96,
      "outputs": []
    },
    {
      "cell_type": "code",
      "metadata": {
        "colab": {
          "base_uri": "https://localhost:8080/"
        },
        "id": "LUkPNUFKZUWd",
        "outputId": "a2c8af78-753c-42ec-8677-acbca07fda69"
      },
      "source": [
        "print(x.shape)"
      ],
      "id": "LUkPNUFKZUWd",
      "execution_count": 97,
      "outputs": [
        {
          "output_type": "stream",
          "name": "stdout",
          "text": [
            "torch.Size([3, 1])\n"
          ]
        }
      ]
    },
    {
      "cell_type": "code",
      "metadata": {
        "id": "4bcszheeZUWd"
      },
      "source": [
        "W = torch.tensor([[1,1,1],[1,1,1]])"
      ],
      "id": "4bcszheeZUWd",
      "execution_count": 98,
      "outputs": []
    },
    {
      "cell_type": "code",
      "metadata": {
        "colab": {
          "base_uri": "https://localhost:8080/"
        },
        "id": "vEq2Ds0FZUWe",
        "outputId": "0bb44ad6-1584-4dca-fefa-c0eaa8756ac3"
      },
      "source": [
        "print(W.shape)"
      ],
      "id": "vEq2Ds0FZUWe",
      "execution_count": 99,
      "outputs": [
        {
          "output_type": "stream",
          "name": "stdout",
          "text": [
            "torch.Size([2, 3])\n"
          ]
        }
      ]
    },
    {
      "cell_type": "code",
      "source": [
        "print(W)"
      ],
      "metadata": {
        "colab": {
          "base_uri": "https://localhost:8080/"
        },
        "id": "ZhVBDNCXgSy6",
        "outputId": "6edae1b3-eca0-4f0a-a67c-53aaad05e335"
      },
      "id": "ZhVBDNCXgSy6",
      "execution_count": 100,
      "outputs": [
        {
          "output_type": "stream",
          "name": "stdout",
          "text": [
            "tensor([[1, 1, 1],\n",
            "        [1, 1, 1]])\n"
          ]
        }
      ]
    },
    {
      "cell_type": "code",
      "metadata": {
        "id": "wTLSERryZUWe"
      },
      "source": [
        "b = torch.tensor(2)"
      ],
      "id": "wTLSERryZUWe",
      "execution_count": 106,
      "outputs": []
    },
    {
      "cell_type": "code",
      "metadata": {
        "colab": {
          "base_uri": "https://localhost:8080/"
        },
        "id": "wq89sQL2ZUWe",
        "outputId": "2f4d7e67-eb99-44f4-9c49-10ec9f394878"
      },
      "source": [
        "print(b.shape)"
      ],
      "id": "wq89sQL2ZUWe",
      "execution_count": 107,
      "outputs": [
        {
          "output_type": "stream",
          "name": "stdout",
          "text": [
            "torch.Size([])\n"
          ]
        }
      ]
    },
    {
      "cell_type": "code",
      "metadata": {
        "id": "Wm_09Jv4ZUWf"
      },
      "source": [
        "y_hat = W @ x + b"
      ],
      "id": "Wm_09Jv4ZUWf",
      "execution_count": 108,
      "outputs": []
    },
    {
      "cell_type": "code",
      "source": [
        "print(y_hat)"
      ],
      "metadata": {
        "colab": {
          "base_uri": "https://localhost:8080/"
        },
        "id": "MHfr-YTag20R",
        "outputId": "68336872-66d1-4c53-88c3-363e5454afd1"
      },
      "id": "MHfr-YTag20R",
      "execution_count": 109,
      "outputs": [
        {
          "output_type": "stream",
          "name": "stdout",
          "text": [
            "tensor([[8],\n",
            "        [8]])\n"
          ]
        }
      ]
    },
    {
      "cell_type": "code",
      "metadata": {
        "colab": {
          "base_uri": "https://localhost:8080/"
        },
        "id": "em6f5sYxZUWf",
        "outputId": "4226e93c-19d4-46e5-bf47-dd25ebba9e0f"
      },
      "source": [
        "print(y_hat.shape)"
      ],
      "id": "em6f5sYxZUWf",
      "execution_count": 110,
      "outputs": [
        {
          "output_type": "stream",
          "name": "stdout",
          "text": [
            "torch.Size([2, 1])\n"
          ]
        }
      ]
    },
    {
      "cell_type": "markdown",
      "metadata": {
        "id": "Z4c6JTJXZUWf"
      },
      "source": [
        "## 8) Batch matrix multiplication"
      ],
      "id": "Z4c6JTJXZUWf"
    },
    {
      "cell_type": "code",
      "metadata": {
        "id": "qJ8sybI1ZUWf"
      },
      "source": [
        "A_b = torch.randn(4, 2, 3)  # (B=4, n=2, k=3)"
      ],
      "id": "qJ8sybI1ZUWf",
      "execution_count": 111,
      "outputs": []
    },
    {
      "cell_type": "code",
      "metadata": {
        "id": "CUdTLY43ZUWg"
      },
      "source": [
        "B_b = torch.randn(4, 3, 5)  # (B=4, k=3, m=5)"
      ],
      "id": "CUdTLY43ZUWg",
      "execution_count": 112,
      "outputs": []
    },
    {
      "cell_type": "code",
      "metadata": {
        "id": "XY-03uqLZUWg"
      },
      "source": [
        "C_b = torch.bmm(A_b, B_b)  # -> (4, 2, 5)"
      ],
      "id": "XY-03uqLZUWg",
      "execution_count": 113,
      "outputs": []
    },
    {
      "cell_type": "code",
      "metadata": {
        "colab": {
          "base_uri": "https://localhost:8080/"
        },
        "id": "VN7_wmxFZUWg",
        "outputId": "3e195b25-0c20-4815-9f49-8b410be16406"
      },
      "source": [
        "print(C_b.shape)"
      ],
      "id": "VN7_wmxFZUWg",
      "execution_count": 114,
      "outputs": [
        {
          "output_type": "stream",
          "name": "stdout",
          "text": [
            "torch.Size([4, 2, 5])\n"
          ]
        }
      ]
    },
    {
      "cell_type": "markdown",
      "metadata": {
        "id": "MiHx7km4ZUWg"
      },
      "source": [
        "## 9) Device — create on device and move existing tensor (no dtype conversion)"
      ],
      "id": "MiHx7km4ZUWg"
    },
    {
      "cell_type": "code",
      "metadata": {
        "id": "Pzk5fLyKZUWg"
      },
      "source": [
        "x_dev = torch.zeros(2, 2, device=device)"
      ],
      "id": "Pzk5fLyKZUWg",
      "execution_count": 115,
      "outputs": []
    },
    {
      "cell_type": "code",
      "metadata": {
        "colab": {
          "base_uri": "https://localhost:8080/"
        },
        "id": "VpiYi4y6ZUWg",
        "outputId": "e5622dc4-ca52-454d-f993-ecd2f4b9011e"
      },
      "source": [
        "print(x_dev.device)"
      ],
      "id": "VpiYi4y6ZUWg",
      "execution_count": 116,
      "outputs": [
        {
          "output_type": "stream",
          "name": "stdout",
          "text": [
            "cpu\n"
          ]
        }
      ]
    },
    {
      "cell_type": "code",
      "metadata": {
        "id": "Q7FDYH9TZUWh"
      },
      "source": [
        "y_cpu = torch.randn(2, 2)"
      ],
      "id": "Q7FDYH9TZUWh",
      "execution_count": 117,
      "outputs": []
    },
    {
      "cell_type": "code",
      "metadata": {
        "id": "PlYX9-rTZUWh"
      },
      "source": [
        "y_dev = y_cpu.to(device)"
      ],
      "id": "PlYX9-rTZUWh",
      "execution_count": 118,
      "outputs": []
    },
    {
      "cell_type": "code",
      "metadata": {
        "colab": {
          "base_uri": "https://localhost:8080/"
        },
        "id": "Sg9b0G5KZUWh",
        "outputId": "5262ce3e-adf0-45c8-b87c-5b23e83a260f"
      },
      "source": [
        "print(y_dev.device)"
      ],
      "id": "Sg9b0G5KZUWh",
      "execution_count": 119,
      "outputs": [
        {
          "output_type": "stream",
          "name": "stdout",
          "text": [
            "cpu\n"
          ]
        }
      ]
    },
    {
      "cell_type": "markdown",
      "metadata": {
        "id": "eSYTTRlZZUWh"
      },
      "source": [
        "\n",
        "## 10) Mini‑Exercises — YOU type the answers\n",
        "\n",
        "**E1.** Create a zeros tensor `img` with shape `(1, 3, 2, 2)` and dtype `float32`.  \n",
        "Print `img.shape` in one cell and `img.ndim` in another.\n",
        "\n",
        "**E2.** Create `A` with shape `(3, 2)` and `B` with shape `(2, 3)` using `randn`.  \n",
        "Compute `C = A @ B` and print `C.shape` in a separate cell.\n",
        "\n",
        "**E3.** Start with `Z = torch.arange(12.0)` → reshape to `(3, 4)` → reshape to `(2, 2, 3)`.  \n",
        "Print shapes at each step (one print per cell).\n",
        "\n",
        "**E4.** Batch matmul: create `A_b` with shape `(2, 2, 3)` and `B_b` with shape `(2, 3, 4)` via `randn`.  \n",
        "Compute `C_b = torch.bmm(A_b, B_b)` and print `C_b.shape`.\n"
      ],
      "id": "eSYTTRlZZUWh"
    },
    {
      "cell_type": "code",
      "metadata": {
        "id": "di0L_M7ZZUWi"
      },
      "source": [
        "# E1: your code here\n"
      ],
      "id": "di0L_M7ZZUWi",
      "execution_count": 132,
      "outputs": []
    },
    {
      "cell_type": "code",
      "metadata": {
        "id": "v7erPh1NZUWi"
      },
      "source": [
        "# print(img.shape)\n"
      ],
      "id": "v7erPh1NZUWi",
      "execution_count": 133,
      "outputs": []
    },
    {
      "cell_type": "code",
      "metadata": {
        "colab": {
          "base_uri": "https://localhost:8080/"
        },
        "id": "sbGO6zKGZUWj",
        "outputId": "6d797c47-f6ce-40fc-ec33-977c61612555"
      },
      "source": [
        "# print(img.ndim)\n"
      ],
      "id": "sbGO6zKGZUWj",
      "execution_count": 125,
      "outputs": [
        {
          "output_type": "stream",
          "name": "stdout",
          "text": [
            "4\n"
          ]
        }
      ]
    },
    {
      "cell_type": "code",
      "metadata": {
        "id": "V235oPMnZUWj"
      },
      "source": [
        "# E2: your code here\n"
      ],
      "id": "V235oPMnZUWj",
      "execution_count": 134,
      "outputs": []
    },
    {
      "cell_type": "code",
      "metadata": {
        "id": "3pr_9oY5ZUWj"
      },
      "source": [
        "# print(C.shape)\n"
      ],
      "id": "3pr_9oY5ZUWj",
      "execution_count": 135,
      "outputs": []
    },
    {
      "cell_type": "code",
      "metadata": {
        "id": "TmzHinNbZUWk"
      },
      "source": [
        "# E3: your code here\n"
      ],
      "id": "TmzHinNbZUWk",
      "execution_count": null,
      "outputs": []
    },
    {
      "cell_type": "code",
      "metadata": {
        "id": "2C3bKrWqZUWk"
      },
      "source": [
        "# E4: your code here\n"
      ],
      "id": "2C3bKrWqZUWk",
      "execution_count": 136,
      "outputs": []
    },
    {
      "cell_type": "code",
      "metadata": {
        "id": "jWUduZPtZUWl"
      },
      "source": [
        "# print(C_b.shape)\n"
      ],
      "id": "jWUduZPtZUWl",
      "execution_count": 137,
      "outputs": []
    },
    {
      "cell_type": "markdown",
      "metadata": {
        "id": "9jDp2O9jZUWl"
      },
      "source": [
        "### (Optional) Run checks"
      ],
      "id": "9jDp2O9jZUWl"
    },
    {
      "cell_type": "code",
      "metadata": {
        "colab": {
          "base_uri": "https://localhost:8080/"
        },
        "id": "Rx0wf6UQZUWl",
        "outputId": "4c297b67-8cd1-4bd4-d573-d2629d9b8b7f"
      },
      "source": [
        "\n",
        "ok = True\n",
        "try:\n",
        "    ok &= (isinstance(img, torch.Tensor) and img.shape == (1,3,2,2))\n",
        "    ok &= (C.shape == (3,3))\n",
        "    ok &= (C_b.shape == (2,2,4))\n",
        "except Exception:\n",
        "    ok = False\n",
        "print(ok)\n"
      ],
      "id": "Rx0wf6UQZUWl",
      "execution_count": 131,
      "outputs": [
        {
          "output_type": "stream",
          "name": "stdout",
          "text": [
            "True\n"
          ]
        }
      ]
    }
  ],
  "metadata": {
    "colab": {
      "provenance": []
    },
    "kernelspec": {
      "name": "python3",
      "display_name": "Python 3"
    },
    "language_info": {
      "name": "python",
      "version": "3.x"
    }
  },
  "nbformat": 4,
  "nbformat_minor": 5
}