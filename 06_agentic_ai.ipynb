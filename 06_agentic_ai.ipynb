{
  "cells": [
    {
      "cell_type": "markdown",
      "metadata": {
        "id": "NkbrJxY75DIE"
      },
      "source": [
        "\n",
        "# Lab-05 — Agentic AI with CrewAI (via OpenRouter)\n",
        "**AI Demystified: Decoding Models, Compute, and Connectivity**\n",
        "\n",
        "**Idea.** We'll wire a tiny 2‑agent crew (**Researcher → Writer**) and call a chat model through **OpenRouter's OpenAI‑compatible API**.  \n",
        "Flow: **set API key → pick model → define agents & task → run → print brief.**\n",
        "\n",
        "> You'll need an **OpenRouter API key**. Keep prompts short; free tiers have rate limits.\n"
      ],
      "id": "NkbrJxY75DIE"
    },
    {
      "cell_type": "markdown",
      "metadata": {
        "id": "X4Z4ynuM5DII"
      },
      "source": [
        "## 1) Setup"
      ],
      "id": "X4Z4ynuM5DII"
    },
    {
      "cell_type": "code",
      "metadata": {
        "id": "8ApqxF1I5DIJ"
      },
      "source": [
        "!pip -q install -U crewai\n"
      ],
      "id": "8ApqxF1I5DIJ",
      "execution_count": null,
      "outputs": []
    },
    {
      "cell_type": "code",
      "metadata": {
        "id": "JVIDtwVs5DIL"
      },
      "source": [
        "import os"
      ],
      "id": "JVIDtwVs5DIL",
      "execution_count": null,
      "outputs": []
    },
    {
      "cell_type": "code",
      "metadata": {
        "id": "gwln9PPT5DIM"
      },
      "source": [
        "BASE_URL = \"https://openrouter.ai/api/v1\""
      ],
      "id": "gwln9PPT5DIM",
      "execution_count": null,
      "outputs": []
    },
    {
      "cell_type": "code",
      "metadata": {
        "id": "YFXmyl-_5DIM"
      },
      "source": [
        "print(BASE_URL)"
      ],
      "id": "YFXmyl-_5DIM",
      "execution_count": null,
      "outputs": []
    },
    {
      "cell_type": "markdown",
      "metadata": {
        "id": "vYfleAsE5DIN"
      },
      "source": [
        "## 2) Enter your OpenRouter API key (won’t be printed)"
      ],
      "id": "vYfleAsE5DIN"
    },
    {
      "cell_type": "code",
      "metadata": {
        "id": "N9bmHvPZ5DIN"
      },
      "source": [
        "\n",
        "from getpass import getpass\n",
        "API_KEY = getpass(\"Paste OpenRouter API key: \").strip()\n"
      ],
      "id": "N9bmHvPZ5DIN",
      "execution_count": null,
      "outputs": []
    },
    {
      "cell_type": "code",
      "metadata": {
        "id": "sCzPSen25DIO"
      },
      "source": [
        "\n",
        "print(\"KEY SET\" if len(API_KEY) > 0 else \"NO KEY\")\n"
      ],
      "id": "sCzPSen25DIO",
      "execution_count": null,
      "outputs": []
    },
    {
      "cell_type": "markdown",
      "metadata": {
        "id": "KvboZYeM5DIO"
      },
      "source": [
        "## 3) Export environment variables (for OpenAI‑compatible clients)"
      ],
      "id": "KvboZYeM5DIO"
    },
    {
      "cell_type": "code",
      "metadata": {
        "id": "vkjl1saD5DIO"
      },
      "source": [
        "\n",
        "os.environ[\"OPENAI_API_KEY\"] = API_KEY\n",
        "os.environ[\"OPENAI_API_BASE\"] = BASE_URL\n",
        "os.environ[\"OPENAI_BASE_URL\"] = BASE_URL\n",
        "os.environ[\"OPENROUTER_API_KEY\"] = API_KEY\n",
        "print(\"ENV READY\")\n"
      ],
      "id": "vkjl1saD5DIO",
      "execution_count": null,
      "outputs": []
    },
    {
      "cell_type": "code",
      "source": [
        "import requests\n",
        "def pick_openrouter_model(preferred=None):\n",
        "    preferred = preferred or [\n",
        "        \"mistralai/mistral-7b-instruct:free\",\n",
        "        \"google/gemma-2-9b-it:free\",\n",
        "        \"meta-llama/llama-3.1-8b-instruct:free\",\n",
        "    ]\n",
        "    r = requests.get(f\"{BASE_URL}/models\",\n",
        "                     headers={\"Authorization\": f\"Bearer {API_KEY}\"},\n",
        "                     timeout=20)\n",
        "    r.raise_for_status()\n",
        "    ids = [m[\"id\"] for m in r.json().get(\"data\", [])]\n",
        "    for p in preferred:\n",
        "        if p in ids: return p\n",
        "    free = [i for i in ids if \":free\" in i]\n",
        "    return free[0] if free else ids[0]\n",
        "\n",
        "MODEL_ID = pick_openrouter_model()\n",
        "print(\"Using MODEL_ID:\", MODEL_ID)\n"
      ],
      "metadata": {
        "id": "8-ESGZkIFBf7"
      },
      "id": "8-ESGZkIFBf7",
      "execution_count": null,
      "outputs": []
    },
    {
      "cell_type": "markdown",
      "metadata": {
        "id": "8BlT1Ke55DIO"
      },
      "source": [
        "## 4) Pick a lightweight model id"
      ],
      "id": "8BlT1Ke55DIO"
    },
    {
      "cell_type": "code",
      "metadata": {
        "id": "l6-iU7un5DIO"
      },
      "source": [
        "\n",
        "# You can change this to another OpenRouter model id if you like.\n",
        "MODEL_ID = \"mistralai/mistral-7b-instruct:free\"\n"
      ],
      "id": "l6-iU7un5DIO",
      "execution_count": null,
      "outputs": []
    },
    {
      "cell_type": "code",
      "metadata": {
        "id": "XC7svZsg5DIP"
      },
      "source": [
        "print(MODEL_ID)"
      ],
      "id": "XC7svZsg5DIP",
      "execution_count": null,
      "outputs": []
    },
    {
      "cell_type": "markdown",
      "metadata": {
        "id": "kJ5q-aIM5DIP"
      },
      "source": [
        "## 5) Create the LLM handle for CrewAI"
      ],
      "id": "kJ5q-aIM5DIP"
    },
    {
      "cell_type": "code",
      "metadata": {
        "id": "aWKLEqap5DIP"
      },
      "source": [
        "from crewai import LLM\n",
        "llm = LLM(\n",
        "    model=MODEL_ID,\n",
        "    api_key=API_KEY,\n",
        "    api_base=BASE_URL,            # OpenRouter base\n",
        "    custom_llm_provider=\"openai\", # <- important\n",
        "    temperature=0.0,\n",
        "    max_tokens=180,\n",
        "    request_timeout=30,\n",
        ")\n",
        "print(\"LLM ready:\", MODEL_ID)"
      ],
      "id": "aWKLEqap5DIP",
      "execution_count": null,
      "outputs": []
    },
    {
      "cell_type": "code",
      "metadata": {
        "id": "49qBXrF55DIP"
      },
      "source": [
        "\n",
        "print(type(llm).__name__)\n"
      ],
      "id": "49qBXrF55DIP",
      "execution_count": null,
      "outputs": []
    },
    {
      "cell_type": "markdown",
      "metadata": {
        "id": "RubnFTcO5DIQ"
      },
      "source": [
        "## 6) Define two tiny agents"
      ],
      "id": "RubnFTcO5DIQ"
    },
    {
      "cell_type": "code",
      "metadata": {
        "id": "4w-oMJvH5DIQ"
      },
      "source": [
        "\n",
        "from crewai import Agent\n",
        "\n",
        "researcher = Agent(\n",
        "    name=\"Researcher\",\n",
        "    role=\"Topic researcher\",\n",
        "    goal=(\"Return EXACTLY 3 bullets, 6–12 words each, STRICTLY about {topic}. \"\n",
        "          \"No headings, no preamble, no extra lines.\"),\n",
        "    backstory=\"Focused analyst who only outputs the required bullets.\",\n",
        "    llm=llm, allow_delegation=False, verbose=True,\n",
        ")"
      ],
      "id": "4w-oMJvH5DIQ",
      "execution_count": null,
      "outputs": []
    },
    {
      "cell_type": "code",
      "metadata": {
        "id": "MRIGjtgW5DIQ"
      },
      "source": [
        "\n",
        "writer = Agent(\n",
        "    name=\"Writer\",\n",
        "    role=\"Brief writer\",\n",
        "    goal=(\"Write ONE paragraph (110–140 words) strictly about {topic}, \"\n",
        "          \"using ONLY the Researcher’s bullets. No headings, no lists.\"),\n",
        "    backstory=\"Concise pre-sales writer who follows constraints.\",\n",
        "    llm=llm, allow_delegation=False, verbose=True,\n",
        ")"
      ],
      "id": "MRIGjtgW5DIQ",
      "execution_count": null,
      "outputs": []
    },
    {
      "cell_type": "code",
      "metadata": {
        "id": "u-eaChQw5DIQ"
      },
      "source": [
        "print(researcher.role)"
      ],
      "id": "u-eaChQw5DIQ",
      "execution_count": null,
      "outputs": []
    },
    {
      "cell_type": "code",
      "metadata": {
        "id": "GYSntTd-5DIQ"
      },
      "source": [
        "print(writer.role)"
      ],
      "id": "GYSntTd-5DIQ",
      "execution_count": null,
      "outputs": []
    },
    {
      "cell_type": "markdown",
      "metadata": {
        "id": "ShAHjo_a5DIQ"
      },
      "source": [
        "## 7) Define a single task and run the crew"
      ],
      "id": "ShAHjo_a5DIQ"
    },
    {
      "cell_type": "code",
      "metadata": {
        "id": "c8F4Rxvc5DIQ"
      },
      "source": [
        "from crewai import Task, Crew, Process\n",
        "\n",
        "topic = \"What about AGI?\"  # change as needed\n",
        "\n",
        "t1 = Task(\n",
        "    description=(\n",
        "        f\"TOPIC: {topic}\\n\"\n",
        "        \"OUTPUT EXACTLY:\\n\"\n",
        "        \"- bullet 1\\n- bullet 2\\n- bullet 3\\n\"\n",
        "        \"Each bullet 6–12 words. No extra text.\"\n",
        "    ),\n",
        "    expected_output=\"- bullet 1\\n- bullet 2\\n- bullet 3\",\n",
        "    agent=researcher,\n",
        ")\n",
        "\n",
        "t2 = Task(\n",
        "    description=(\n",
        "        f\"Use ONLY the three bullets from the Researcher to write ONE paragraph (110–140 words) \"\n",
        "        f\"about {topic}. No lists, no headings, no meta text.\"\n",
        "    ),\n",
        "    expected_output=\"One paragraph, 110–140 words.\",\n",
        "    agent=writer,\n",
        "    context=[t1],\n",
        ")\n",
        "\n",
        "crew = Crew(agents=[researcher, writer], tasks=[t1, t2], process=Process.sequential)\n",
        "print(\"Topic:\", topic)\n"
      ],
      "id": "c8F4Rxvc5DIQ",
      "execution_count": null,
      "outputs": []
    },
    {
      "cell_type": "code",
      "metadata": {
        "id": "J6HhmxKZ5DIR"
      },
      "source": [
        "print(topic)"
      ],
      "id": "J6HhmxKZ5DIR",
      "execution_count": null,
      "outputs": []
    },
    {
      "cell_type": "markdown",
      "metadata": {
        "id": "VljDHraY5DIR"
      },
      "source": [
        "## 8) Kick off the crew"
      ],
      "id": "VljDHraY5DIR"
    },
    {
      "cell_type": "code",
      "metadata": {
        "id": "qTACBlrq5DIR"
      },
      "source": [
        "\n",
        "if not API_KEY:\n",
        "    result = \"No API key provided. Please rerun Section 2 with your OpenRouter key.\"\n",
        "else:\n",
        "    result = crew.kickoff(inputs={\"topic\": topic})\n"
      ],
      "id": "qTACBlrq5DIR",
      "execution_count": null,
      "outputs": []
    },
    {
      "cell_type": "code",
      "metadata": {
        "id": "DrrvO_L35DIR"
      },
      "source": [
        "print(type(result).__name__)"
      ],
      "id": "DrrvO_L35DIR",
      "execution_count": null,
      "outputs": []
    },
    {
      "cell_type": "code",
      "metadata": {
        "id": "xWqt1XhY5DIR"
      },
      "source": [
        "print(str(result)[:300] + ('...' if len(str(result))>300 else ''))"
      ],
      "id": "xWqt1XhY5DIR",
      "execution_count": null,
      "outputs": []
    },
    {
      "cell_type": "markdown",
      "metadata": {
        "id": "4rxRwpow5DIR"
      },
      "source": [
        "\n",
        "## 9) Mini‑Exercises — YOU type\n",
        "\n",
        "- Change `topic` (e.g., \"customer churn signals in telecom\") and re‑run Sections 7–8.\n",
        "- Swap roles: let the Writer draft first, then ask Researcher to fact‑check in 3 bullets.\n",
        "- Reduce verbosity (set `verbose=False`) and compare outputs.\n",
        "\n",
        "*(One print per cell.)*\n"
      ],
      "id": "4rxRwpow5DIR"
    },
    {
      "cell_type": "code",
      "metadata": {
        "id": "URXyUuIC5DIR"
      },
      "source": [
        "# your changes here (e.g., set a new topic then re-run)"
      ],
      "id": "URXyUuIC5DIR",
      "execution_count": null,
      "outputs": []
    },
    {
      "cell_type": "markdown",
      "metadata": {
        "id": "8ZNGYAns5DIR"
      },
      "source": [
        "\n",
        "### Notes\n",
        "- If you hit rate limits on free tiers, wait a moment and retry, or keep prompts short.\n",
        "- To use a different model, update `MODEL_ID` (Section 4).\n",
        "- When saving to GitHub from Colab, uncheck **Include the output** so your key/outputs aren’t stored.\n"
      ],
      "id": "8ZNGYAns5DIR"
    }
  ],
  "metadata": {
    "colab": {
      "provenance": []
    },
    "kernelspec": {
      "name": "python3",
      "display_name": "Python 3"
    },
    "language_info": {
      "name": "python",
      "version": "3.x"
    }
  },
  "nbformat": 4,
  "nbformat_minor": 5
}
