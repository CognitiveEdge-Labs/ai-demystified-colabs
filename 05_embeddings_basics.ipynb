{
  "cells": [
    {
      "cell_type": "markdown",
      "metadata": {
        "id": "view-in-github",
        "colab_type": "text"
      },
      "source": [
        "<a href=\"https://colab.research.google.com/github/CognitiveEdge-Labs/ai-demystified-colabs/blob/main/05_embeddings_basics.ipynb\" target=\"_parent\"><img src=\"https://colab.research.google.com/assets/colab-badge.svg\" alt=\"Open In Colab\"/></a>"
      ]
    },
    {
      "cell_type": "markdown",
      "metadata": {
        "id": "C-Wf33V9whV5"
      },
      "source": [
        "\n",
        "# Lab-05 — Embeddings (Sentence Similarity & Mini Search)\n",
        "\n",
        "**AI Demystified: Decoding Models, Compute, and Connectivity**\n",
        "\n",
        "Welcome! In this lab you will learn how embeddings capture **meaning** in numbers. You will compare **sentence similarity**, visualize vector spaces and build a mini semantic search engine.\n",
        "\n",
        "\n",
        "**Idea.** An *embedding* turns text into a vector of numbers so we can measure **semantic similarity**.  \n",
        "In this lab we’ll:\n",
        "- Convert sentences to embeddings with a tiny model\n",
        "- Compare meanings via **cosine similarity**\n",
        "- Do a **mini semantic search** over a tiny corpus\n",
        "\n",
        "*That’s all it takes!* (No API keys; runs on CPU.)\n"
      ],
      "id": "C-Wf33V9whV5"
    },
    {
      "cell_type": "markdown",
      "metadata": {
        "id": "XeIj7VS5whV8"
      },
      "source": [
        "## 1) Setup"
      ],
      "id": "XeIj7VS5whV8"
    },
    {
      "cell_type": "code",
      "metadata": {
        "id": "1NLvNBN_whV8"
      },
      "source": [
        "!pip -q install -U sentence-transformers"
      ],
      "id": "1NLvNBN_whV8",
      "execution_count": null,
      "outputs": []
    },
    {
      "cell_type": "code",
      "metadata": {
        "id": "1hbqPy74whV-"
      },
      "source": [
        "from sentence_transformers import SentenceTransformer"
      ],
      "id": "1hbqPy74whV-",
      "execution_count": null,
      "outputs": []
    },
    {
      "cell_type": "code",
      "metadata": {
        "id": "uyvNMOKhwhV-"
      },
      "source": [
        "import numpy as np"
      ],
      "id": "uyvNMOKhwhV-",
      "execution_count": null,
      "outputs": []
    },
    {
      "cell_type": "code",
      "metadata": {
        "id": "fOwWAZtNwhV_"
      },
      "source": [
        "import torch"
      ],
      "id": "fOwWAZtNwhV_",
      "execution_count": null,
      "outputs": []
    },
    {
      "cell_type": "code",
      "metadata": {
        "id": "A4xUaChLwhV_"
      },
      "source": [
        "print(torch.__version__)"
      ],
      "id": "A4xUaChLwhV_",
      "execution_count": null,
      "outputs": []
    },
    {
      "cell_type": "markdown",
      "metadata": {
        "id": "matJu0OkwhV_"
      },
      "source": [
        "## 2) Load a small embedding model"
      ],
      "id": "matJu0OkwhV_"
    },
    {
      "cell_type": "code",
      "metadata": {
        "id": "0LIRIyfBwhV_"
      },
      "source": [
        "model = SentenceTransformer('sentence-transformers/all-MiniLM-L6-v2')"
      ],
      "id": "0LIRIyfBwhV_",
      "execution_count": null,
      "outputs": []
    },
    {
      "cell_type": "code",
      "metadata": {
        "id": "EzRVp4tywhV_"
      },
      "source": [
        "print(model.get_sentence_embedding_dimension())"
      ],
      "id": "EzRVp4tywhV_",
      "execution_count": null,
      "outputs": []
    },
    {
      "cell_type": "markdown",
      "metadata": {
        "id": "J6GUAph-whWA"
      },
      "source": [
        "## 3) Encode a few sentences"
      ],
      "id": "J6GUAph-whWA"
    },
    {
      "cell_type": "code",
      "metadata": {
        "id": "aMtnhGZkwhWA"
      },
      "source": [
        "\n",
        "sentences = [\n",
        "    \"buy cat food online\",                  # s0\n",
        "    \"purchase pet supplies on the web\",     # s1 (similar to s0)\n",
        "    \"apply for a car loan\"                  # s2 (different topic)\n",
        "]\n"
      ],
      "id": "aMtnhGZkwhWA",
      "execution_count": null,
      "outputs": []
    },
    {
      "cell_type": "code",
      "metadata": {
        "id": "bKtZ8vm8whWA"
      },
      "source": [
        "emb = model.encode(sentences, convert_to_numpy=True, normalize_embeddings=True)"
      ],
      "id": "bKtZ8vm8whWA",
      "execution_count": null,
      "outputs": []
    },
    {
      "cell_type": "code",
      "metadata": {
        "id": "O_B8uSgrwhWA"
      },
      "source": [
        "print(type(emb))"
      ],
      "id": "O_B8uSgrwhWA",
      "execution_count": null,
      "outputs": []
    },
    {
      "cell_type": "code",
      "metadata": {
        "id": "0Jexd9F1whWB"
      },
      "source": [
        "print(emb.shape)"
      ],
      "id": "0Jexd9F1whWB",
      "execution_count": null,
      "outputs": []
    },
    {
      "cell_type": "code",
      "metadata": {
        "id": "EXHyk4WBwhWB"
      },
      "source": [
        "print(emb[0].shape)"
      ],
      "id": "EXHyk4WBwhWB",
      "execution_count": null,
      "outputs": []
    },
    {
      "cell_type": "markdown",
      "metadata": {
        "id": "aYzcqJkhwhWB"
      },
      "source": [
        "## 4) Cosine similarity (higher = more similar)"
      ],
      "id": "aYzcqJkhwhWB"
    },
    {
      "cell_type": "code",
      "metadata": {
        "id": "TkkghzELwhWB"
      },
      "source": [
        "sim_0_1 = float(np.dot(emb[0], emb[1]))"
      ],
      "id": "TkkghzELwhWB",
      "execution_count": null,
      "outputs": []
    },
    {
      "cell_type": "code",
      "metadata": {
        "id": "ETFHJJ_0whWB"
      },
      "source": [
        "print(sim_0_1)"
      ],
      "id": "ETFHJJ_0whWB",
      "execution_count": null,
      "outputs": []
    },
    {
      "cell_type": "code",
      "metadata": {
        "id": "T-Q89dKiwhWC"
      },
      "source": [
        "sim_0_2 = float(np.dot(emb[0], emb[2]))"
      ],
      "id": "T-Q89dKiwhWC",
      "execution_count": null,
      "outputs": []
    },
    {
      "cell_type": "code",
      "metadata": {
        "id": "NiCeCri8whWC"
      },
      "source": [
        "print(sim_0_2)"
      ],
      "id": "NiCeCri8whWC",
      "execution_count": null,
      "outputs": []
    },
    {
      "cell_type": "markdown",
      "metadata": {
        "id": "aUuOBFi_whWC"
      },
      "source": [
        "## 5) Mini semantic search (top‑k)"
      ],
      "id": "aUuOBFi_whWC"
    },
    {
      "cell_type": "code",
      "metadata": {
        "id": "iMZjPvmKwhWC"
      },
      "source": [
        "\n",
        "corpus = [\n",
        "    \"cat food 2kg bag\",\n",
        "    \"kitten toys assorted pack\",\n",
        "    \"dog leash and harness\",\n",
        "    \"best mortgage interest rates\",\n",
        "    \"how to refinance a car loan\",\n",
        "    \"fast delivery pet supplies\"\n",
        "]\n"
      ],
      "id": "iMZjPvmKwhWC",
      "execution_count": null,
      "outputs": []
    },
    {
      "cell_type": "code",
      "metadata": {
        "id": "PTA9cMrdwhWC"
      },
      "source": [
        "query = \"order pet food online\""
      ],
      "id": "PTA9cMrdwhWC",
      "execution_count": null,
      "outputs": []
    },
    {
      "cell_type": "code",
      "metadata": {
        "id": "5tLPAGcFwhWC"
      },
      "source": [
        "C = model.encode(corpus, convert_to_numpy=True, normalize_embeddings=True)"
      ],
      "id": "5tLPAGcFwhWC",
      "execution_count": null,
      "outputs": []
    },
    {
      "cell_type": "code",
      "metadata": {
        "id": "TewZ0vJVwhWD"
      },
      "source": [
        "q = model.encode([query], convert_to_numpy=True, normalize_embeddings=True)[0]"
      ],
      "id": "TewZ0vJVwhWD",
      "execution_count": null,
      "outputs": []
    },
    {
      "cell_type": "code",
      "metadata": {
        "id": "qQeMnrddwhWD"
      },
      "source": [
        "print(C.shape)"
      ],
      "id": "qQeMnrddwhWD",
      "execution_count": null,
      "outputs": []
    },
    {
      "cell_type": "code",
      "metadata": {
        "id": "ohHuKIyswhWD"
      },
      "source": [
        "print(q.shape)"
      ],
      "id": "ohHuKIyswhWD",
      "execution_count": null,
      "outputs": []
    },
    {
      "cell_type": "code",
      "metadata": {
        "id": "dGFbPZSJwhWD"
      },
      "source": [
        "scores = C @ q"
      ],
      "id": "dGFbPZSJwhWD",
      "execution_count": null,
      "outputs": []
    },
    {
      "cell_type": "code",
      "metadata": {
        "id": "9aljdb3LwhWE"
      },
      "source": [
        "print(scores.shape)"
      ],
      "id": "9aljdb3LwhWE",
      "execution_count": null,
      "outputs": []
    },
    {
      "cell_type": "code",
      "source": [
        "print(scores)"
      ],
      "metadata": {
        "id": "OXfUDWLpyDHG"
      },
      "id": "OXfUDWLpyDHG",
      "execution_count": null,
      "outputs": []
    },
    {
      "cell_type": "code",
      "metadata": {
        "id": "tz2lbogYwhWE"
      },
      "source": [
        "\n",
        "topk = 3\n",
        "idx = np.argsort(-scores)[:topk]\n",
        "results = [(corpus[i], float(scores[i])) for i in idx]\n"
      ],
      "id": "tz2lbogYwhWE",
      "execution_count": null,
      "outputs": []
    },
    {
      "cell_type": "code",
      "metadata": {
        "id": "BBLIYVqYwhWE"
      },
      "source": [
        "print(results[0])"
      ],
      "id": "BBLIYVqYwhWE",
      "execution_count": null,
      "outputs": []
    },
    {
      "cell_type": "code",
      "metadata": {
        "id": "gLAjqtWEwhWE"
      },
      "source": [
        "print(results[1])"
      ],
      "id": "gLAjqtWEwhWE",
      "execution_count": null,
      "outputs": []
    },
    {
      "cell_type": "code",
      "metadata": {
        "id": "t5v1JARjwhWF"
      },
      "source": [
        "print(results[2])"
      ],
      "id": "t5v1JARjwhWF",
      "execution_count": null,
      "outputs": []
    },
    {
      "cell_type": "markdown",
      "metadata": {
        "id": "sZj8oezWwhWF"
      },
      "source": [
        "\n",
        "## 6) Mini‑Exercises — YOU type the answers\n",
        "\n",
        "**E1.** Add **two** of your own sentences to `sentences` (e.g., one about pets, one about finance).  \n",
        "Recompute embeddings and print the new `emb.shape` and one cosine similarity you expect to be **high**.\n",
        "\n",
        "**E2.** Change `query` to something *non‑pet* (e.g., finance) and print the new top‑3 results.  \n",
        "Check that results now focus on finance‑related lines.\n",
        "\n",
        "**E3.** (Optional) Try **without** normalization (`normalize_embeddings=False`) and compute cosine similarity manually:  \n",
        "\\( \\cos(\\theta) = \\frac{u\\cdot v}{\\|u\\|\\,\\|v\\|} \\). Print the value and compare.\n",
        "\n",
        "*(One print per cell. Keep it simple!)*\n"
      ],
      "id": "sZj8oezWwhWF"
    },
    {
      "cell_type": "code",
      "metadata": {
        "id": "TX8_X89fwhWF"
      },
      "source": [
        "# E1: your code here — modify `sentences`, recompute `emb`, then print emb.shape"
      ],
      "id": "TX8_X89fwhWF",
      "execution_count": null,
      "outputs": []
    },
    {
      "cell_type": "code",
      "metadata": {
        "id": "0O5_oNXWwhWF"
      },
      "source": [
        "# print a cosine similarity you expect to be high"
      ],
      "id": "0O5_oNXWwhWF",
      "execution_count": null,
      "outputs": []
    },
    {
      "cell_type": "code",
      "metadata": {
        "id": "J3RmA0LlwhWG"
      },
      "source": [
        "# E2: your code here — change `query`, recompute `scores`, then print top-3 as (text, score)"
      ],
      "id": "J3RmA0LlwhWG",
      "execution_count": null,
      "outputs": []
    },
    {
      "cell_type": "code",
      "metadata": {
        "id": "N-HxItJGwhWG"
      },
      "source": [
        "# E3: your code here — optional cosine without normalization"
      ],
      "id": "N-HxItJGwhWG",
      "execution_count": null,
      "outputs": []
    },
    {
      "cell_type": "markdown",
      "metadata": {
        "id": "sGDBS4CxwhWO"
      },
      "source": [
        "### (Optional) Quick checks"
      ],
      "id": "sGDBS4CxwhWO"
    },
    {
      "cell_type": "code",
      "metadata": {
        "id": "xorO-7RRwhWO"
      },
      "source": [
        "\n",
        "ok = True\n",
        "try:\n",
        "    ok &= (emb.shape[1] == model.get_sentence_embedding_dimension())\n",
        "    ok &= (sim_0_1 > sim_0_2)\n",
        "except Exception:\n",
        "    ok = False\n",
        "print(ok)\n"
      ],
      "id": "xorO-7RRwhWO",
      "execution_count": null,
      "outputs": []
    }
  ],
  "metadata": {
    "colab": {
      "provenance": [],
      "include_colab_link": true
    },
    "kernelspec": {
      "name": "python3",
      "display_name": "Python 3"
    },
    "language_info": {
      "name": "python",
      "version": "3.x"
    }
  },
  "nbformat": 4,
  "nbformat_minor": 5
}