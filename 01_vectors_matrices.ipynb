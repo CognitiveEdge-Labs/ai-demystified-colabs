{
  "cells": [
    {
      "cell_type": "markdown",
      "metadata": {
        "id": "LpB0mSVIfEIC"
      },
      "source": [
        "\n",
        "# Lab-01 — Scalars, Vectors & Matrices\n",
        "**AI Demystified: Decoding Models, Compute, and Connectivity**\n",
        "\n",
        "Welcome! In this lab we revisit the fundamentals of **linear algebra** with **vectors**, **matrices** and **basic operations**. These concepts form the mathematical backbone of AI models.\n",
        "\n",
        "\n",
        "**Goals:**\n",
        "\n",
        "- Create 1D vectors and 2D row/column vectors\n",
        "- Compute dot products\n",
        "- Read **shape** and **rank/dim** (`.shape`, `.ndim`)\n",
        "- Use **transpose** when needed\n",
        "- Plot simple 2D vectors\n",
        "- Matrices - **shape** and **rank/dim** (`.shape`, `.ndim`)\n",
        "- Matrix Multiplication\n",
        "\n",
        "**Tip:** Each cell does exactly one thing. Run top to bottom.\n"
      ],
      "id": "LpB0mSVIfEIC"
    },
    {
      "cell_type": "markdown",
      "metadata": {
        "id": "PC8eAoicfEIK"
      },
      "source": [
        "## 1) Setup\n",
        "**Import Libraries**\n",
        "\n",
        "**NumPy**, short for Numerical Python, is a Python library used for working with arrays. It also has functions for working in domain of linear algebra, fourier transform, and matrices. NumPy was created in 2005 by Travis Oliphant.\n",
        "\n",
        "**Matplotlib** is a low level graph plotting library in Python that serves as a visualization utility. Matplotlib was created by John D. Hunter.\n",
        "\n",
        "Both are open source projects and you can use them freely."
      ],
      "id": "PC8eAoicfEIK"
    },
    {
      "cell_type": "code",
      "metadata": {
        "id": "s5q83DdcfEIL"
      },
      "source": [
        "import numpy as np"
      ],
      "id": "s5q83DdcfEIL",
      "execution_count": null,
      "outputs": []
    },
    {
      "cell_type": "code",
      "metadata": {
        "id": "AxCxZ0BGfEIM"
      },
      "source": [
        "import matplotlib.pyplot as plt"
      ],
      "id": "AxCxZ0BGfEIM",
      "execution_count": null,
      "outputs": []
    },
    {
      "cell_type": "code",
      "metadata": {
        "id": "zruz8jKSfEIN",
        "colab": {
          "base_uri": "https://localhost:8080/"
        },
        "outputId": "e9e5b0fb-daa3-46f4-e974-47aaf1c2e903"
      },
      "source": [
        "print(\"NumPy ready\")"
      ],
      "id": "zruz8jKSfEIN",
      "execution_count": null,
      "outputs": [
        {
          "output_type": "stream",
          "name": "stdout",
          "text": [
            "NumPy ready\n"
          ]
        }
      ]
    },
    {
      "cell_type": "markdown",
      "metadata": {
        "id": "XUAxF3AyfEIN"
      },
      "source": [
        "## 2) Scalar (0-D)"
      ],
      "id": "XUAxF3AyfEIN"
    },
    {
      "cell_type": "code",
      "metadata": {
        "id": "IXJ3n0RGfEIN"
      },
      "source": [
        "temperature = 27  # a single number"
      ],
      "id": "IXJ3n0RGfEIN",
      "execution_count": null,
      "outputs": []
    },
    {
      "cell_type": "code",
      "metadata": {
        "id": "acVRDVbWfEIO"
      },
      "source": [
        "temperature_np = np.array(27)  # scalar as NumPy"
      ],
      "id": "acVRDVbWfEIO",
      "execution_count": null,
      "outputs": []
    },
    {
      "cell_type": "code",
      "metadata": {
        "id": "4QaeSSmxfEIO"
      },
      "source": [
        "print(temperature_np.shape)  # ()"
      ],
      "id": "4QaeSSmxfEIO",
      "execution_count": null,
      "outputs": []
    },
    {
      "cell_type": "code",
      "metadata": {
        "id": "AG-gvX-HfEIO"
      },
      "source": [
        "print(temperature_np.ndim)   # 0"
      ],
      "id": "AG-gvX-HfEIO",
      "execution_count": null,
      "outputs": []
    },
    {
      "cell_type": "markdown",
      "metadata": {
        "id": "5_Z__f8zfEIP"
      },
      "source": [
        "## 3) 1D Vector (shape and dim)"
      ],
      "id": "5_Z__f8zfEIP"
    },
    {
      "cell_type": "code",
      "metadata": {
        "id": "vaEoXlgafEIP"
      },
      "source": [
        "a1d = np.array([1, 2, 3])"
      ],
      "id": "vaEoXlgafEIP",
      "execution_count": null,
      "outputs": []
    },
    {
      "cell_type": "code",
      "metadata": {
        "id": "40_PUWM6fEIP"
      },
      "source": [
        "print(a1d)"
      ],
      "id": "40_PUWM6fEIP",
      "execution_count": null,
      "outputs": []
    },
    {
      "cell_type": "code",
      "metadata": {
        "id": "yqBDp2nDfEIQ"
      },
      "source": [
        "print(a1d.shape)  # (3,)"
      ],
      "id": "yqBDp2nDfEIQ",
      "execution_count": null,
      "outputs": []
    },
    {
      "cell_type": "code",
      "metadata": {
        "id": "e19OXw8sfEIQ"
      },
      "source": [
        "print(a1d.ndim)   # 1"
      ],
      "id": "e19OXw8sfEIQ",
      "execution_count": null,
      "outputs": []
    },
    {
      "cell_type": "markdown",
      "metadata": {
        "id": "rhvguks_fEIQ"
      },
      "source": [
        "## 4) 1D Dot Product"
      ],
      "id": "rhvguks_fEIQ"
    },
    {
      "cell_type": "code",
      "metadata": {
        "id": "B9wjft_6fEIR"
      },
      "source": [
        "b1d = np.array([4, 5, 6])"
      ],
      "id": "B9wjft_6fEIR",
      "execution_count": null,
      "outputs": []
    },
    {
      "cell_type": "code",
      "metadata": {
        "id": "Vyv0WXHDfEIR"
      },
      "source": [
        "print(b1d)"
      ],
      "id": "Vyv0WXHDfEIR",
      "execution_count": null,
      "outputs": []
    },
    {
      "cell_type": "code",
      "metadata": {
        "id": "xoQgJi53fEIR"
      },
      "source": [
        "print(b1d.shape)  # (3,)"
      ],
      "id": "xoQgJi53fEIR",
      "execution_count": null,
      "outputs": []
    },
    {
      "cell_type": "code",
      "metadata": {
        "id": "KTFTtcbLfEIS"
      },
      "source": [
        "print(b1d.ndim)   # 1"
      ],
      "id": "KTFTtcbLfEIS",
      "execution_count": null,
      "outputs": []
    },
    {
      "cell_type": "code",
      "metadata": {
        "id": "t7bQw0ppfEIS"
      },
      "source": [
        "dot1d = np.dot(a1d, b1d)"
      ],
      "id": "t7bQw0ppfEIS",
      "execution_count": null,
      "outputs": []
    },
    {
      "cell_type": "code",
      "metadata": {
        "id": "8t54WlAlfEIS"
      },
      "source": [
        "print(dot1d)  # expect 32"
      ],
      "id": "8t54WlAlfEIS",
      "execution_count": null,
      "outputs": []
    },
    {
      "cell_type": "markdown",
      "metadata": {
        "id": "qy9lK-Z1fEIS"
      },
      "source": [
        "## 5) 2D Vectors — Row vs Column\n",
        "We will type the **same** arrays in two ways:\n",
        "- Horizontally in one line\n",
        "- Vertically across multiple lines\n",
        "Both give the same result."
      ],
      "id": "qy9lK-Z1fEIS"
    },
    {
      "cell_type": "markdown",
      "metadata": {
        "id": "w6wFnPw0fEIS"
      },
      "source": [
        "### 5.a) Row vector (1×3)"
      ],
      "id": "w6wFnPw0fEIS"
    },
    {
      "cell_type": "code",
      "metadata": {
        "id": "5odRjUkUfEIT"
      },
      "source": [
        "row_one_line = np.array([[1, 2, 3]])  # one line"
      ],
      "id": "5odRjUkUfEIT",
      "execution_count": null,
      "outputs": []
    },
    {
      "cell_type": "code",
      "metadata": {
        "id": "xxgvQzr0fEIT"
      },
      "source": [
        "print(row_one_line.shape)"
      ],
      "id": "xxgvQzr0fEIT",
      "execution_count": null,
      "outputs": []
    },
    {
      "cell_type": "markdown",
      "metadata": {
        "id": "OdjUEw05fEIU"
      },
      "source": [
        "### 5.b) Column vector (3×1) — two ways to type"
      ],
      "id": "OdjUEw05fEIU"
    },
    {
      "cell_type": "code",
      "metadata": {
        "id": "4uWyY8y3fEIU"
      },
      "source": [
        "col_one_line = np.array([[4],[5],[6]])  # brackets nested for a column"
      ],
      "id": "4uWyY8y3fEIU",
      "execution_count": null,
      "outputs": []
    },
    {
      "cell_type": "code",
      "metadata": {
        "id": "E1JqiqF9fEIU"
      },
      "source": [
        "col_vertical = np.array([ [4],\n",
        "                          [5],\n",
        "                          [6] ])  # spaced vertically"
      ],
      "id": "E1JqiqF9fEIU",
      "execution_count": null,
      "outputs": []
    },
    {
      "cell_type": "code",
      "metadata": {
        "id": "CfP14GT7fEIV"
      },
      "source": [
        "print(col_one_line.shape)  # (3,1)"
      ],
      "id": "CfP14GT7fEIV",
      "execution_count": null,
      "outputs": []
    },
    {
      "cell_type": "code",
      "metadata": {
        "id": "LPIbxn_DfEIW"
      },
      "source": [
        "print(col_vertical.shape)  # (3,1)"
      ],
      "id": "LPIbxn_DfEIW",
      "execution_count": null,
      "outputs": []
    },
    {
      "cell_type": "code",
      "metadata": {
        "id": "qYorKjKpfEIX"
      },
      "source": [
        "print(np.array_equal(col_one_line, col_vertical))  # True"
      ],
      "id": "qYorKjKpfEIX",
      "execution_count": null,
      "outputs": []
    },
    {
      "cell_type": "markdown",
      "metadata": {
        "id": "OubrV3Z1fEIX"
      },
      "source": [
        "## 6) 2D Dot Product — (1×3) @ (3×1) → (1×1)"
      ],
      "id": "OubrV3Z1fEIX"
    },
    {
      "cell_type": "code",
      "metadata": {
        "id": "9KWkcarJfEIY"
      },
      "source": [
        "dot2d = row_one_line @ col_one_line"
      ],
      "id": "9KWkcarJfEIY",
      "execution_count": null,
      "outputs": []
    },
    {
      "cell_type": "code",
      "metadata": {
        "id": "eTCQL9v3fEIY"
      },
      "source": [
        "print(dot2d)"
      ],
      "id": "eTCQL9v3fEIY",
      "execution_count": null,
      "outputs": []
    },
    {
      "cell_type": "code",
      "metadata": {
        "id": "c8fKURDXfEIZ"
      },
      "source": [
        "print(dot2d.shape)  # (1,1)"
      ],
      "id": "c8fKURDXfEIZ",
      "execution_count": null,
      "outputs": []
    },
    {
      "cell_type": "markdown",
      "metadata": {
        "id": "kJhF3fYhfEIa"
      },
      "source": [
        "## 7) Transpose — when both are rows"
      ],
      "id": "kJhF3fYhfEIa"
    },
    {
      "cell_type": "code",
      "metadata": {
        "id": "hSi8CVLffEIb"
      },
      "source": [
        "a_row = np.array([[1, 2, 3]])"
      ],
      "id": "hSi8CVLffEIb",
      "execution_count": null,
      "outputs": []
    },
    {
      "cell_type": "code",
      "metadata": {
        "id": "yVAQiw6tfEIb"
      },
      "source": [
        "b_row = np.array([[4, 5, 6]])"
      ],
      "id": "yVAQiw6tfEIb",
      "execution_count": null,
      "outputs": []
    },
    {
      "cell_type": "code",
      "metadata": {
        "id": "1zX5NzPxfEIb"
      },
      "source": [
        "print(a_row.shape)"
      ],
      "id": "1zX5NzPxfEIb",
      "execution_count": null,
      "outputs": []
    },
    {
      "cell_type": "code",
      "metadata": {
        "id": "Z7MgYX74fEIb"
      },
      "source": [
        "print(b_row.shape)"
      ],
      "id": "Z7MgYX74fEIb",
      "execution_count": null,
      "outputs": []
    },
    {
      "cell_type": "code",
      "metadata": {
        "id": "4_4QY4-TfEIc"
      },
      "source": [
        "# a_row @ b_row  # <- uncomment to see the error in class"
      ],
      "id": "4_4QY4-TfEIc",
      "execution_count": null,
      "outputs": []
    },
    {
      "cell_type": "code",
      "source": [
        "b_transpose = b_row.T"
      ],
      "metadata": {
        "id": "jik56foilNJ2"
      },
      "id": "jik56foilNJ2",
      "execution_count": null,
      "outputs": []
    },
    {
      "cell_type": "code",
      "source": [
        "print(b_transpose.shape)"
      ],
      "metadata": {
        "id": "ZIYE2_-olT8n"
      },
      "id": "ZIYE2_-olT8n",
      "execution_count": null,
      "outputs": []
    },
    {
      "cell_type": "code",
      "metadata": {
        "id": "N0sfP6ZWfEIc"
      },
      "source": [
        "fixed = a_row @ b_transpose"
      ],
      "id": "N0sfP6ZWfEIc",
      "execution_count": null,
      "outputs": []
    },
    {
      "cell_type": "code",
      "metadata": {
        "id": "pKp5GV1_fEIc"
      },
      "source": [
        "print(fixed)"
      ],
      "id": "pKp5GV1_fEIc",
      "execution_count": null,
      "outputs": []
    },
    {
      "cell_type": "code",
      "metadata": {
        "id": "V9ZL1wNFfEIc"
      },
      "source": [
        "print(fixed.shape)  # (1,1)"
      ],
      "id": "V9ZL1wNFfEIc",
      "execution_count": null,
      "outputs": []
    },
    {
      "cell_type": "markdown",
      "metadata": {
        "id": "w7KBw1eXfEId"
      },
      "source": [
        "## 8) Plotting vectors in the x–y plane — NumPy arrays of shape (2,)"
      ],
      "id": "w7KBw1eXfEId"
    },
    {
      "cell_type": "code",
      "metadata": {
        "id": "ftF6uHNffEId"
      },
      "source": [
        "u = np.array([1, 2])"
      ],
      "id": "ftF6uHNffEId",
      "execution_count": null,
      "outputs": []
    },
    {
      "cell_type": "code",
      "metadata": {
        "id": "fG-lB5QmfEId"
      },
      "source": [
        "v = np.array([2, 1])"
      ],
      "id": "fG-lB5QmfEId",
      "execution_count": null,
      "outputs": []
    },
    {
      "cell_type": "code",
      "metadata": {
        "id": "DzJP0IOgfEId",
        "colab": {
          "base_uri": "https://localhost:8080/"
        },
        "outputId": "7027e0c5-7c13-4332-b265-fa90c3b3df68"
      },
      "source": [
        "print(u.shape)"
      ],
      "id": "DzJP0IOgfEId",
      "execution_count": null,
      "outputs": [
        {
          "output_type": "stream",
          "name": "stdout",
          "text": [
            "(2,)\n"
          ]
        }
      ]
    },
    {
      "cell_type": "code",
      "metadata": {
        "id": "Y1my6iFgfEIe",
        "colab": {
          "base_uri": "https://localhost:8080/"
        },
        "outputId": "1deaf856-a64d-4df6-8f78-2882aa13545d"
      },
      "source": [
        "print(v.shape)"
      ],
      "id": "Y1my6iFgfEIe",
      "execution_count": null,
      "outputs": [
        {
          "output_type": "stream",
          "name": "stdout",
          "text": [
            "(2,)\n"
          ]
        }
      ]
    },
    {
      "cell_type": "code",
      "metadata": {
        "id": "5aT1PHnFfEIe",
        "colab": {
          "base_uri": "https://localhost:8080/",
          "height": 472
        },
        "outputId": "3c9ccb8f-cc7a-4763-c281-9a54cb565729"
      },
      "source": [
        "plt.figure()\n",
        "plt.quiver([0,0],[0,0],[u[0],v[0]],[u[1],v[1]], angles='xy', scale_units='xy', scale=1)\n",
        "plt.xlim(0,3); plt.ylim(0,3)\n",
        "plt.gca().set_aspect('equal', adjustable='box')\n",
        "plt.grid(True)\n",
        "plt.title('2D vectors u=[1,2], v=[2,1]')\n",
        "plt.xlabel('x'); plt.ylabel('y')\n",
        "plt.show()"
      ],
      "id": "5aT1PHnFfEIe",
      "execution_count": null,
      "outputs": [
        {
          "output_type": "display_data",
          "data": {
            "text/plain": [
              "<Figure size 640x480 with 1 Axes>"
            ],
            "image/png": "[encoded data removed]"
          },
          "metadata": {}
        }
      ]
    },
    {
      "cell_type": "markdown",
      "metadata": {
        "id": "ayYddRZ-fEIe"
      },
      "source": [
        "\n",
        "## 9) Mini‑Exercises (YOU type the answers)\n",
        "\n",
        "**E1.** Create a 1D vector named `x` with values `[5, 2, -3]` and print its **shape** and **ndim** in *separate* cells.\n",
        "\n",
        "**Type your answer below (add cells if you like):**\n"
      ],
      "id": "ayYddRZ-fEIe"
    },
    {
      "cell_type": "code",
      "metadata": {
        "id": "e6Ch3e0PfEIe"
      },
      "source": [
        "# E1: your code here"
      ],
      "id": "e6Ch3e0PfEIe",
      "execution_count": null,
      "outputs": []
    },
    {
      "cell_type": "code",
      "metadata": {
        "id": "H9Mc3lpTfEIf"
      },
      "source": [
        "# print(x.shape)"
      ],
      "id": "H9Mc3lpTfEIf",
      "execution_count": null,
      "outputs": []
    },
    {
      "cell_type": "code",
      "metadata": {
        "id": "PpUA0EFKfEIf"
      },
      "source": [
        "# print(x.ndim)"
      ],
      "id": "PpUA0EFKfEIf",
      "execution_count": null,
      "outputs": []
    },
    {
      "cell_type": "markdown",
      "metadata": {
        "id": "gIDe8SfbfEIf"
      },
      "source": [
        "\n",
        "**E2.** Create `r` as a **row** vector `[[7, 8, 9]]` and `c` as a **column** vector using **both** styles:\n",
        "1) `c_one_line = np.array([[1],[0],[1]])`  \n",
        "2) `c_vertical = np.array([[1], [0], [1]])` (typed across lines)\n",
        "\n",
        "Compute `r @ c_one_line` and `r @ c_vertical` and print the results and their shapes in separate cells.  \n"
      ],
      "id": "gIDe8SfbfEIf"
    },
    {
      "cell_type": "code",
      "metadata": {
        "id": "eHmuWbUQfEIg"
      },
      "source": [
        "# E2: your code here"
      ],
      "id": "eHmuWbUQfEIg",
      "execution_count": null,
      "outputs": []
    },
    {
      "cell_type": "code",
      "metadata": {
        "id": "p3S_ScAyfEIg"
      },
      "source": [
        "# print(r.shape)"
      ],
      "id": "p3S_ScAyfEIg",
      "execution_count": null,
      "outputs": []
    },
    {
      "cell_type": "code",
      "metadata": {
        "id": "hl90p00wfEIg"
      },
      "source": [
        "# print(c_one_line.shape)"
      ],
      "id": "hl90p00wfEIg",
      "execution_count": null,
      "outputs": []
    },
    {
      "cell_type": "code",
      "metadata": {
        "id": "a4R1TFZWfEIg"
      },
      "source": [
        "# print(c_vertical.shape)"
      ],
      "id": "a4R1TFZWfEIg",
      "execution_count": null,
      "outputs": []
    },
    {
      "cell_type": "code",
      "metadata": {
        "id": "uwO3_mSjfEIh"
      },
      "source": [
        "# print(r @ c_one_line)"
      ],
      "id": "uwO3_mSjfEIh",
      "execution_count": null,
      "outputs": []
    },
    {
      "cell_type": "code",
      "metadata": {
        "id": "yGdhUIeIfEIh"
      },
      "source": [
        "# print((r @ c_one_line).shape)"
      ],
      "id": "yGdhUIeIfEIh",
      "execution_count": null,
      "outputs": []
    },
    {
      "cell_type": "code",
      "metadata": {
        "id": "CEmVjPn6fEIh"
      },
      "source": [
        "# print(r @ c_vertical)"
      ],
      "id": "CEmVjPn6fEIh",
      "execution_count": null,
      "outputs": []
    },
    {
      "cell_type": "code",
      "metadata": {
        "id": "B-orRLBhfEIh"
      },
      "source": [
        "# print((r @ c_vertical).shape)"
      ],
      "id": "B-orRLBhfEIh",
      "execution_count": null,
      "outputs": []
    },
    {
      "cell_type": "markdown",
      "metadata": {
        "id": "BMmWMsRqfEIi"
      },
      "source": [
        "\n",
        "**E3.** Start with two **row** vectors `p = [[2,3]]` and `q = [[4,5]]`.  \n",
        "1) Try `p @ q` (expect a shape error).  \n",
        "2) Fix it using transpose and print the result and its shape in separate cells.\n"
      ],
      "id": "BMmWMsRqfEIi"
    },
    {
      "cell_type": "code",
      "metadata": {
        "id": "t3gOZd8CfEIi"
      },
      "source": [
        "# E3: your code here"
      ],
      "id": "t3gOZd8CfEIi",
      "execution_count": null,
      "outputs": []
    },
    {
      "cell_type": "code",
      "metadata": {
        "id": "YyHfRpHgfEIi"
      },
      "source": [
        "# print(p.shape)"
      ],
      "id": "YyHfRpHgfEIi",
      "execution_count": null,
      "outputs": []
    },
    {
      "cell_type": "code",
      "metadata": {
        "id": "RaQWRiFCfEIi"
      },
      "source": [
        "# print(q.shape)"
      ],
      "id": "RaQWRiFCfEIi",
      "execution_count": null,
      "outputs": []
    },
    {
      "cell_type": "code",
      "metadata": {
        "id": "eUIDDdX5fEIj"
      },
      "source": [
        "# p @ q  # expect an error when you run this"
      ],
      "id": "eUIDDdX5fEIj",
      "execution_count": null,
      "outputs": []
    },
    {
      "cell_type": "code",
      "metadata": {
        "id": "rZY26nezfEIj"
      },
      "source": [
        "# fixed_pq = p @ q.T"
      ],
      "id": "rZY26nezfEIj",
      "execution_count": null,
      "outputs": []
    },
    {
      "cell_type": "code",
      "metadata": {
        "id": "B6fDtiRTfEIj"
      },
      "source": [
        "# print(fixed_pq)"
      ],
      "id": "B6fDtiRTfEIj",
      "execution_count": null,
      "outputs": []
    },
    {
      "cell_type": "code",
      "metadata": {
        "id": "jyAQ-gUsfEIj"
      },
      "source": [
        "# print(fixed_pq.shape)"
      ],
      "id": "jyAQ-gUsfEIj",
      "execution_count": null,
      "outputs": []
    },
    {
      "cell_type": "markdown",
      "metadata": {
        "id": "kil9ulPBfEIk"
      },
      "source": [
        "### (Optional) Run checks — only after you typed your answers"
      ],
      "id": "kil9ulPBfEIk"
    },
    {
      "cell_type": "code",
      "metadata": {
        "id": "Dn_hinfMfEIk"
      },
      "source": [
        "\n",
        "# This cell validates your variables if you created them with the exact names.\n",
        "ok = True\n",
        "try:\n",
        "    ok &= (x.shape == (3,) and x.ndim == 1)\n",
        "    ok &= (r.shape == (1,3))\n",
        "    ok &= (c_one_line.shape == (3,1))\n",
        "    ok &= (c_vertical.shape == (3,1))\n",
        "    ok &= ((r @ c_one_line).shape == (1,1))\n",
        "    ok &= ((r @ c_vertical).shape == (1,1))\n",
        "    ok &= (fixed_pq.shape == (1,1))\n",
        "except Exception as e:\n",
        "    ok = False\n",
        "print(\"All checks passed?\" , ok)\n"
      ],
      "id": "Dn_hinfMfEIk",
      "execution_count": null,
      "outputs": []
    },
    {
      "cell_type": "markdown",
      "metadata": {
        "id": "K0gODW-nxO00"
      },
      "source": [
        "## 10) Matrices — Shapes and Rank/Dim"
      ],
      "id": "K0gODW-nxO00"
    },
    {
      "cell_type": "code",
      "metadata": {
        "id": "ih_eCBewxO02"
      },
      "source": [
        "A22 = np.array([[1, 2],\n",
        "                [3, 4]])  # (2,2)"
      ],
      "id": "ih_eCBewxO02",
      "execution_count": null,
      "outputs": []
    },
    {
      "cell_type": "code",
      "metadata": {
        "id": "ATx8s7vXxO02"
      },
      "source": [
        "print(A22)"
      ],
      "id": "ATx8s7vXxO02",
      "execution_count": null,
      "outputs": []
    },
    {
      "cell_type": "code",
      "metadata": {
        "id": "XdQvlVDCxO03"
      },
      "source": [
        "print(A22.shape)  # (2, 2)"
      ],
      "id": "XdQvlVDCxO03",
      "execution_count": null,
      "outputs": []
    },
    {
      "cell_type": "code",
      "metadata": {
        "id": "OE8QrnUOxO03"
      },
      "source": [
        "print(A22.ndim)   # 2"
      ],
      "id": "OE8QrnUOxO03",
      "execution_count": null,
      "outputs": []
    },
    {
      "cell_type": "code",
      "metadata": {
        "id": "PVPt5ZKLxO04"
      },
      "source": [
        "A23 = np.array([[1, 2, 3],\n",
        "                [4, 5, 6]])  # (2,3)"
      ],
      "id": "PVPt5ZKLxO04",
      "execution_count": null,
      "outputs": []
    },
    {
      "cell_type": "code",
      "metadata": {
        "id": "LQzTsr2LxO05"
      },
      "source": [
        "print(A23)"
      ],
      "id": "LQzTsr2LxO05",
      "execution_count": null,
      "outputs": []
    },
    {
      "cell_type": "code",
      "metadata": {
        "id": "f4PoAxKhxO05"
      },
      "source": [
        "print(A23.shape)  # (2, 3)"
      ],
      "id": "f4PoAxKhxO05",
      "execution_count": null,
      "outputs": []
    },
    {
      "cell_type": "code",
      "metadata": {
        "id": "g2hZD0YrxO06"
      },
      "source": [
        "print(A23.ndim)   # 2"
      ],
      "id": "g2hZD0YrxO06",
      "execution_count": null,
      "outputs": []
    },
    {
      "cell_type": "code",
      "metadata": {
        "id": "-4NneirnxO07"
      },
      "source": [
        "A31 = np.array([[1],\n",
        "                [2],\n",
        "                [3]])  # (3,1)"
      ],
      "id": "-4NneirnxO07",
      "execution_count": null,
      "outputs": []
    },
    {
      "cell_type": "code",
      "metadata": {
        "id": "rhhPUnI-xO07"
      },
      "source": [
        "print(A31)"
      ],
      "id": "rhhPUnI-xO07",
      "execution_count": null,
      "outputs": []
    },
    {
      "cell_type": "code",
      "metadata": {
        "id": "SiKyDFAuxO08"
      },
      "source": [
        "print(A31.shape)  # (3, 1)"
      ],
      "id": "SiKyDFAuxO08",
      "execution_count": null,
      "outputs": []
    },
    {
      "cell_type": "code",
      "metadata": {
        "id": "Wfeq0fqtxO0-"
      },
      "source": [
        "print(A31.ndim)   # 2"
      ],
      "id": "Wfeq0fqtxO0-",
      "execution_count": null,
      "outputs": []
    },
    {
      "cell_type": "markdown",
      "metadata": {
        "id": "MdE7oB9hxO0-"
      },
      "source": [
        "## 11) Matrix Multiplication — (2×2) @ (2×2) → (2×2)"
      ],
      "id": "MdE7oB9hxO0-"
    },
    {
      "cell_type": "code",
      "metadata": {
        "id": "XNdWONg6xO0_"
      },
      "source": [
        "a = np.array([[1, 2],\n",
        "             [3, 4]])  # (2,2)"
      ],
      "id": "XNdWONg6xO0_",
      "execution_count": null,
      "outputs": []
    },
    {
      "cell_type": "code",
      "metadata": {
        "id": "VwlaEM95xO0_"
      },
      "source": [
        "print(a)"
      ],
      "id": "VwlaEM95xO0_",
      "execution_count": null,
      "outputs": []
    },
    {
      "cell_type": "code",
      "metadata": {
        "id": "VLTR-t0pxO0_"
      },
      "source": [
        "print(a.shape)"
      ],
      "id": "VLTR-t0pxO0_",
      "execution_count": null,
      "outputs": []
    },
    {
      "cell_type": "code",
      "metadata": {
        "id": "MHxGXzT4xO0_"
      },
      "source": [
        "print(a.ndim)"
      ],
      "id": "MHxGXzT4xO0_",
      "execution_count": null,
      "outputs": []
    },
    {
      "cell_type": "code",
      "metadata": {
        "id": "YW12bVgjxO1A"
      },
      "source": [
        "b = np.array([[5, 6],\n",
        "             [7, 8]])  # (2,2)"
      ],
      "id": "YW12bVgjxO1A",
      "execution_count": null,
      "outputs": []
    },
    {
      "cell_type": "code",
      "metadata": {
        "id": "czdweACJxO1B"
      },
      "source": [
        "print(b)"
      ],
      "id": "czdweACJxO1B",
      "execution_count": null,
      "outputs": []
    },
    {
      "cell_type": "code",
      "metadata": {
        "id": "KrMlskKTxO1B"
      },
      "source": [
        "print(b.shape)"
      ],
      "id": "KrMlskKTxO1B",
      "execution_count": null,
      "outputs": []
    },
    {
      "cell_type": "code",
      "metadata": {
        "id": "B4FVSj_2xO1B"
      },
      "source": [
        "print(b.ndim)"
      ],
      "id": "B4FVSj_2xO1B",
      "execution_count": null,
      "outputs": []
    },
    {
      "cell_type": "code",
      "metadata": {
        "id": "83yfRJYbxO1C"
      },
      "source": [
        "c = a @ b"
      ],
      "id": "83yfRJYbxO1C",
      "execution_count": null,
      "outputs": []
    },
    {
      "cell_type": "code",
      "metadata": {
        "id": "gJo5rfwSxO1C"
      },
      "source": [
        "print(c)"
      ],
      "id": "gJo5rfwSxO1C",
      "execution_count": null,
      "outputs": []
    },
    {
      "cell_type": "code",
      "metadata": {
        "id": "LzJyMpkpxO1C"
      },
      "source": [
        "print(c.shape)  # (2, 2)"
      ],
      "id": "LzJyMpkpxO1C",
      "execution_count": null,
      "outputs": []
    },
    {
      "cell_type": "markdown",
      "metadata": {
        "id": "sMm3Axv5xO1C"
      },
      "source": [
        "### (Optional) Inner dimensions must match"
      ],
      "id": "sMm3Axv5xO1C"
    },
    {
      "cell_type": "code",
      "metadata": {
        "id": "gFg1l2suxO1D"
      },
      "source": [
        "# Try uncommenting to see an error:\n",
        "# np.array([[1,2,3],[4,5,6]]) @ np.array([[1,2],[3,4]])  # (2×3) @ (2×2) -> mismatch"
      ],
      "id": "gFg1l2suxO1D",
      "execution_count": null,
      "outputs": []
    },
    {
      "cell_type": "markdown",
      "metadata": {
        "id": "tR0XUI8JxO1D"
      },
      "source": [
        "## 12) Mini‑Exercises (Matrices) — YOU type the answers\n",
        "\n",
        "**E4.** Create two matrices and multiply them:\n",
        "- `M1` with shape **(2, 3)**\n",
        "- `M2` with shape **(3, 1)**\n",
        "Then compute `M1 @ M2` and print the result and **each shape** in separate cells.\n"
      ],
      "id": "tR0XUI8JxO1D"
    },
    {
      "cell_type": "code",
      "metadata": {
        "id": "xRaQ08vcxO1F"
      },
      "source": [
        "# E4: your code here — define M1 (2x3)"
      ],
      "id": "xRaQ08vcxO1F",
      "execution_count": null,
      "outputs": []
    },
    {
      "cell_type": "code",
      "metadata": {
        "id": "NUbIn3q1xO1G"
      },
      "source": [
        "# define M2 (3x1)"
      ],
      "id": "NUbIn3q1xO1G",
      "execution_count": null,
      "outputs": []
    },
    {
      "cell_type": "code",
      "metadata": {
        "id": "bYQW-DwGxO1G"
      },
      "source": [
        "# print(M1.shape)"
      ],
      "id": "bYQW-DwGxO1G",
      "execution_count": null,
      "outputs": []
    },
    {
      "cell_type": "code",
      "metadata": {
        "id": "hAb2OnlpxO1H"
      },
      "source": [
        "# print(M2.shape)"
      ],
      "id": "hAb2OnlpxO1H",
      "execution_count": null,
      "outputs": []
    },
    {
      "cell_type": "code",
      "metadata": {
        "id": "lXkbR2TKxO1H"
      },
      "source": [
        "# P = M1 @ M2"
      ],
      "id": "lXkbR2TKxO1H",
      "execution_count": null,
      "outputs": []
    },
    {
      "cell_type": "code",
      "metadata": {
        "id": "zim3_L6RxO1I"
      },
      "source": [
        "# print(P)"
      ],
      "id": "zim3_L6RxO1I",
      "execution_count": null,
      "outputs": []
    },
    {
      "cell_type": "code",
      "metadata": {
        "id": "87qLA8v5xO1J"
      },
      "source": [
        "# print(P.shape)  # expect (2, 1)"
      ],
      "id": "87qLA8v5xO1J",
      "execution_count": null,
      "outputs": []
    },
    {
      "cell_type": "markdown",
      "metadata": {
        "id": "X6xG7F6rxO1J"
      },
      "source": [
        "### (Optional) Run checks for E4"
      ],
      "id": "X6xG7F6rxO1J"
    },
    {
      "cell_type": "code",
      "metadata": {
        "id": "vxG7intrxO1K"
      },
      "source": [
        "\n",
        "try:\n",
        "    ok = (M1.shape == (2,3)) and (M2.shape == (3,1)) and (P.shape == (2,1))\n",
        "except Exception:\n",
        "    ok = False\n",
        "print(ok)\n"
      ],
      "id": "vxG7intrxO1K",
      "execution_count": null,
      "outputs": []
    }
  ],
  "metadata": {
    "colab": {
      "provenance": []
    },
    "kernelspec": {
      "name": "python3",
      "display_name": "Python 3"
    },
    "language_info": {
      "name": "python",
      "version": "3.x"
    }
  },
  "nbformat": 4,
  "nbformat_minor": 5
}