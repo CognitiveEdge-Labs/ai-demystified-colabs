{
  "cells": [
    {
      "cell_type": "markdown",
      "metadata": {
        "id": "LpB0mSVIfEIC"
      },
      "source": [
        "\n",
        "# Lab-01 — Scalars, Vectors & Matrices\n",
        "**AI Demystified: Decoding Models, Compute, and Connectivity**\n",
        "\n",
        "Welcome! In this lab we revisit the fundamentals of **linear algebra** with **vectors**, **matrices** and **basic operations**. These concepts form the mathematical backbone of AI models.\n",
        "\n",
        "\n",
        "**Goals:**\n",
        "\n",
        "- Create 1D vectors and 2D row/column vectors\n",
        "- Compute dot products\n",
        "- Read **shape** and **rank/dim** (`.shape`, `.ndim`)\n",
        "- Use **transpose** when needed\n",
        "- Plot simple 2D vectors\n",
        "- Matrices - **shape** and **rank/dim** (`.shape`, `.ndim`)\n",
        "- Matrix Multiplication\n",
        "\n",
        "**Tip:** Each cell does exactly one thing. Run top to bottom.\n"
      ],
      "id": "LpB0mSVIfEIC"
    },
    {
      "cell_type": "markdown",
      "metadata": {
        "id": "PC8eAoicfEIK"
      },
      "source": [
        "## 1) Setup\n",
        "**Import Libraries**\n",
        "\n",
        "**NumPy**, short for Numerical Python, is a Python library used for working with arrays. It also has functions for working in domain of linear algebra, fourier transform, and matrices. NumPy was created in 2005 by Travis Oliphant.\n",
        "\n",
        "**Matplotlib** is a low level graph plotting library in Python that serves as a visualization utility. Matplotlib was created by John D. Hunter.\n",
        "\n",
        "Both are open source projects and you can use them freely."
      ],
      "id": "PC8eAoicfEIK"
    },
    {
      "cell_type": "code",
      "metadata": {
        "id": "s5q83DdcfEIL"
      },
      "source": [
        "import numpy as np"
      ],
      "id": "s5q83DdcfEIL",
      "execution_count": null,
      "outputs": []
    },
    {
      "cell_type": "code",
      "metadata": {
        "id": "AxCxZ0BGfEIM"
      },
      "source": [
        "import matplotlib.pyplot as plt"
      ],
      "id": "AxCxZ0BGfEIM",
      "execution_count": null,
      "outputs": []
    },
    {
      "cell_type": "code",
      "metadata": {
        "id": "zruz8jKSfEIN"
      },
      "source": [
        "print(\"NumPy ready\")"
      ],
      "id": "zruz8jKSfEIN",
      "execution_count": null,
      "outputs": []
    },
    {
      "cell_type": "markdown",
      "metadata": {
        "id": "XUAxF3AyfEIN"
      },
      "source": [
        "## 2) Scalar (0-D)"
      ],
      "id": "XUAxF3AyfEIN"
    },
    {
      "cell_type": "code",
      "metadata": {
        "id": "IXJ3n0RGfEIN"
      },
      "source": [
        "temperature = 27  # a single number"
      ],
      "id": "IXJ3n0RGfEIN",
      "execution_count": null,
      "outputs": []
    },
    {
      "cell_type": "code",
      "metadata": {
        "id": "acVRDVbWfEIO"
      },
      "source": [
        "temperature_np = np.array(27)  # scalar as NumPy"
      ],
      "id": "acVRDVbWfEIO",
      "execution_count": null,
      "outputs": []
    },
    {
      "cell_type": "code",
      "metadata": {
        "id": "4QaeSSmxfEIO"
      },
      "source": [
        "print(temperature_np.shape)  # ()"
      ],
      "id": "4QaeSSmxfEIO",
      "execution_count": null,
      "outputs": []
    },
    {
      "cell_type": "code",
      "metadata": {
        "id": "AG-gvX-HfEIO"
      },
      "source": [
        "print(temperature_np.ndim)   # 0"
      ],
      "id": "AG-gvX-HfEIO",
      "execution_count": null,
      "outputs": []
    },
    {
      "cell_type": "markdown",
      "metadata": {
        "id": "5_Z__f8zfEIP"
      },
      "source": [
        "## 3) 1D Vector (shape and dim)"
      ],
      "id": "5_Z__f8zfEIP"
    },
    {
      "cell_type": "code",
      "metadata": {
        "id": "vaEoXlgafEIP"
      },
      "source": [
        "a1d = np.array([1, 2, 3])"
      ],
      "id": "vaEoXlgafEIP",
      "execution_count": null,
      "outputs": []
    },
    {
      "cell_type": "code",
      "metadata": {
        "id": "40_PUWM6fEIP"
      },
      "source": [
        "print(a1d)"
      ],
      "id": "40_PUWM6fEIP",
      "execution_count": null,
      "outputs": []
    },
    {
      "cell_type": "code",
      "metadata": {
        "id": "yqBDp2nDfEIQ"
      },
      "source": [
        "print(a1d.shape)  # (3,)"
      ],
      "id": "yqBDp2nDfEIQ",
      "execution_count": null,
      "outputs": []
    },
    {
      "cell_type": "code",
      "metadata": {
        "id": "e19OXw8sfEIQ"
      },
      "source": [
        "print(a1d.ndim)   # 1"
      ],
      "id": "e19OXw8sfEIQ",
      "execution_count": null,
      "outputs": []
    },
    {
      "cell_type": "markdown",
      "metadata": {
        "id": "rhvguks_fEIQ"
      },
      "source": [
        "## 4) 1D Dot Product"
      ],
      "id": "rhvguks_fEIQ"
    },
    {
      "cell_type": "code",
      "metadata": {
        "id": "B9wjft_6fEIR"
      },
      "source": [
        "b1d = np.array([4, 5, 6])"
      ],
      "id": "B9wjft_6fEIR",
      "execution_count": null,
      "outputs": []
    },
    {
      "cell_type": "code",
      "metadata": {
        "id": "Vyv0WXHDfEIR"
      },
      "source": [
        "print(b1d)"
      ],
      "id": "Vyv0WXHDfEIR",
      "execution_count": null,
      "outputs": []
    },
    {
      "cell_type": "code",
      "metadata": {
        "id": "xoQgJi53fEIR"
      },
      "source": [
        "print(b1d.shape)  # (3,)"
      ],
      "id": "xoQgJi53fEIR",
      "execution_count": null,
      "outputs": []
    },
    {
      "cell_type": "code",
      "metadata": {
        "id": "KTFTtcbLfEIS"
      },
      "source": [
        "print(b1d.ndim)   # 1"
      ],
      "id": "KTFTtcbLfEIS",
      "execution_count": null,
      "outputs": []
    },
    {
      "cell_type": "code",
      "metadata": {
        "id": "t7bQw0ppfEIS"
      },
      "source": [
        "dot1d = np.dot(a1d, b1d)"
      ],
      "id": "t7bQw0ppfEIS",
      "execution_count": null,
      "outputs": []
    },
    {
      "cell_type": "code",
      "metadata": {
        "id": "8t54WlAlfEIS"
      },
      "source": [
        "print(dot1d)  # expect 32"
      ],
      "id": "8t54WlAlfEIS",
      "execution_count": null,
      "outputs": []
    },
    {
      "cell_type": "markdown",
      "metadata": {
        "id": "qy9lK-Z1fEIS"
      },
      "source": [
        "## 5) 2D Vectors — Row vs Column\n"
      ],
      "id": "qy9lK-Z1fEIS"
    },
    {
      "cell_type": "markdown",
      "metadata": {
        "id": "w6wFnPw0fEIS"
      },
      "source": [
        "### 5.a) Row vector (1×3)"
      ],
      "id": "w6wFnPw0fEIS"
    },
    {
      "cell_type": "code",
      "metadata": {
        "id": "5odRjUkUfEIT"
      },
      "source": [
        "row_one_line = np.array([[1, 2, 3]])  # one line"
      ],
      "id": "5odRjUkUfEIT",
      "execution_count": null,
      "outputs": []
    },
    {
      "cell_type": "code",
      "metadata": {
        "id": "xxgvQzr0fEIT"
      },
      "source": [
        "print(row_one_line.shape)"
      ],
      "id": "xxgvQzr0fEIT",
      "execution_count": null,
      "outputs": []
    },
    {
      "cell_type": "markdown",
      "metadata": {
        "id": "OdjUEw05fEIU"
      },
      "source": [
        "### 5.b) Column vector (3×1) — two ways to type"
      ],
      "id": "OdjUEw05fEIU"
    },
    {
      "cell_type": "code",
      "metadata": {
        "id": "4uWyY8y3fEIU"
      },
      "source": [
        "col_one_line = np.array([[4],[5],[6]])  # brackets nested for a column"
      ],
      "id": "4uWyY8y3fEIU",
      "execution_count": null,
      "outputs": []
    },
    {
      "cell_type": "code",
      "metadata": {
        "id": "E1JqiqF9fEIU"
      },
      "source": [
        "col_vertical = np.array([ [4],\n",
        "                          [5],\n",
        "                          [6] ])  # spaced vertically"
      ],
      "id": "E1JqiqF9fEIU",
      "execution_count": null,
      "outputs": []
    },
    {
      "cell_type": "code",
      "metadata": {
        "id": "CfP14GT7fEIV"
      },
      "source": [
        "print(col_one_line.shape)  # (3,1)"
      ],
      "id": "CfP14GT7fEIV",
      "execution_count": null,
      "outputs": []
    },
    {
      "cell_type": "code",
      "metadata": {
        "id": "LPIbxn_DfEIW"
      },
      "source": [
        "print(col_vertical.shape)  # (3,1)"
      ],
      "id": "LPIbxn_DfEIW",
      "execution_count": null,
      "outputs": []
    },
    {
      "cell_type": "code",
      "metadata": {
        "id": "qYorKjKpfEIX"
      },
      "source": [
        "print(np.array_equal(col_one_line, col_vertical))  # True"
      ],
      "id": "qYorKjKpfEIX",
      "execution_count": null,
      "outputs": []
    },
    {
      "cell_type": "markdown",
      "metadata": {
        "id": "OubrV3Z1fEIX"
      },
      "source": [
        "## 6) 2D Dot Product — (1×3) @ (3×1) → (1×1)"
      ],
      "id": "OubrV3Z1fEIX"
    },
    {
      "cell_type": "code",
      "metadata": {
        "id": "9KWkcarJfEIY"
      },
      "source": [
        "dot2d = row_one_line @ col_one_line"
      ],
      "id": "9KWkcarJfEIY",
      "execution_count": null,
      "outputs": []
    },
    {
      "cell_type": "code",
      "metadata": {
        "id": "eTCQL9v3fEIY"
      },
      "source": [
        "print(dot2d)"
      ],
      "id": "eTCQL9v3fEIY",
      "execution_count": null,
      "outputs": []
    },
    {
      "cell_type": "code",
      "metadata": {
        "id": "c8fKURDXfEIZ"
      },
      "source": [
        "print(dot2d.shape)  # (1,1)"
      ],
      "id": "c8fKURDXfEIZ",
      "execution_count": null,
      "outputs": []
    },
    {
      "cell_type": "markdown",
      "metadata": {
        "id": "kJhF3fYhfEIa"
      },
      "source": [
        "## 7) Transpose — when both are rows"
      ],
      "id": "kJhF3fYhfEIa"
    },
    {
      "cell_type": "code",
      "metadata": {
        "id": "hSi8CVLffEIb"
      },
      "source": [
        "a_row = np.array([[1, 2, 3]])"
      ],
      "id": "hSi8CVLffEIb",
      "execution_count": null,
      "outputs": []
    },
    {
      "cell_type": "code",
      "metadata": {
        "id": "yVAQiw6tfEIb"
      },
      "source": [
        "b_row = np.array([[4, 5, 6]])"
      ],
      "id": "yVAQiw6tfEIb",
      "execution_count": null,
      "outputs": []
    },
    {
      "cell_type": "code",
      "metadata": {
        "id": "1zX5NzPxfEIb"
      },
      "source": [
        "print(a_row.shape)"
      ],
      "id": "1zX5NzPxfEIb",
      "execution_count": null,
      "outputs": []
    },
    {
      "cell_type": "code",
      "metadata": {
        "id": "Z7MgYX74fEIb"
      },
      "source": [
        "print(b_row.shape)"
      ],
      "id": "Z7MgYX74fEIb",
      "execution_count": null,
      "outputs": []
    },
    {
      "cell_type": "code",
      "metadata": {
        "id": "4_4QY4-TfEIc"
      },
      "source": [
        "# a_row @ b_row  # <- uncomment to see the error in class"
      ],
      "id": "4_4QY4-TfEIc",
      "execution_count": null,
      "outputs": []
    },
    {
      "cell_type": "code",
      "source": [
        "b_transpose = b_row.T"
      ],
      "metadata": {
        "id": "jik56foilNJ2"
      },
      "id": "jik56foilNJ2",
      "execution_count": null,
      "outputs": []
    },
    {
      "cell_type": "code",
      "source": [
        "print(b_transpose.shape)"
      ],
      "metadata": {
        "id": "ZIYE2_-olT8n"
      },
      "id": "ZIYE2_-olT8n",
      "execution_count": null,
      "outputs": []
    },
    {
      "cell_type": "code",
      "metadata": {
        "id": "N0sfP6ZWfEIc"
      },
      "source": [
        "fixed = a_row @ b_transpose"
      ],
      "id": "N0sfP6ZWfEIc",
      "execution_count": null,
      "outputs": []
    },
    {
      "cell_type": "code",
      "metadata": {
        "id": "pKp5GV1_fEIc"
      },
      "source": [
        "print(fixed)"
      ],
      "id": "pKp5GV1_fEIc",
      "execution_count": null,
      "outputs": []
    },
    {
      "cell_type": "code",
      "metadata": {
        "id": "V9ZL1wNFfEIc"
      },
      "source": [
        "print(fixed.shape)  # (1,1)"
      ],
      "id": "V9ZL1wNFfEIc",
      "execution_count": null,
      "outputs": []
    },
    {
      "cell_type": "markdown",
      "metadata": {
        "id": "w7KBw1eXfEId"
      },
      "source": [
        "## 8) Plotting vectors in the x–y plane — NumPy arrays of shape (2,)"
      ],
      "id": "w7KBw1eXfEId"
    },
    {
      "cell_type": "code",
      "metadata": {
        "id": "ftF6uHNffEId"
      },
      "source": [
        "u = np.array([1, 2])"
      ],
      "id": "ftF6uHNffEId",
      "execution_count": null,
      "outputs": []
    },
    {
      "cell_type": "code",
      "metadata": {
        "id": "fG-lB5QmfEId"
      },
      "source": [
        "v = np.array([2, 1])"
      ],
      "id": "fG-lB5QmfEId",
      "execution_count": null,
      "outputs": []
    },
    {
      "cell_type": "code",
      "metadata": {
        "id": "DzJP0IOgfEId"
      },
      "source": [
        "print(u.shape)"
      ],
      "id": "DzJP0IOgfEId",
      "execution_count": null,
      "outputs": []
    },
    {
      "cell_type": "code",
      "metadata": {
        "id": "Y1my6iFgfEIe"
      },
      "source": [
        "print(v.shape)"
      ],
      "id": "Y1my6iFgfEIe",
      "execution_count": null,
      "outputs": []
    },
    {
      "cell_type": "code",
      "metadata": {
        "id": "5aT1PHnFfEIe"
      },
      "source": [
        "plt.figure()\n",
        "plt.quiver([0,0],[0,0],[u[0],v[0]],[u[1],v[1]], angles='xy', scale_units='xy', scale=1)\n",
        "plt.xlim(0,3); plt.ylim(0,3)\n",
        "plt.gca().set_aspect('equal', adjustable='box')\n",
        "plt.grid(True)\n",
        "plt.title('2D vectors u=[1,2], v=[2,1]')\n",
        "plt.xlabel('x'); plt.ylabel('y')\n",
        "plt.show()"
      ],
      "id": "5aT1PHnFfEIe",
      "execution_count": null,
      "outputs": []
    },
    {
      "cell_type": "markdown",
      "metadata": {
        "id": "K0gODW-nxO00"
      },
      "source": [
        "## 9) Matrices — Shapes and Rank/Dim"
      ],
      "id": "K0gODW-nxO00"
    },
    {
      "cell_type": "code",
      "metadata": {
        "id": "ih_eCBewxO02"
      },
      "source": [
        "A22 = np.array([[1, 2],\n",
        "                [3, 4]])  # (2,2)"
      ],
      "id": "ih_eCBewxO02",
      "execution_count": null,
      "outputs": []
    },
    {
      "cell_type": "code",
      "metadata": {
        "id": "ATx8s7vXxO02"
      },
      "source": [
        "print(A22)"
      ],
      "id": "ATx8s7vXxO02",
      "execution_count": null,
      "outputs": []
    },
    {
      "cell_type": "code",
      "metadata": {
        "id": "XdQvlVDCxO03"
      },
      "source": [
        "print(A22.shape)  # (2, 2)"
      ],
      "id": "XdQvlVDCxO03",
      "execution_count": null,
      "outputs": []
    },
    {
      "cell_type": "code",
      "metadata": {
        "id": "OE8QrnUOxO03"
      },
      "source": [
        "print(A22.ndim)   # 2"
      ],
      "id": "OE8QrnUOxO03",
      "execution_count": null,
      "outputs": []
    },
    {
      "cell_type": "code",
      "metadata": {
        "id": "PVPt5ZKLxO04"
      },
      "source": [
        "A23 = np.array([[1, 2, 3],\n",
        "                [4, 5, 6]])  # (2,3)"
      ],
      "id": "PVPt5ZKLxO04",
      "execution_count": null,
      "outputs": []
    },
    {
      "cell_type": "code",
      "metadata": {
        "id": "LQzTsr2LxO05"
      },
      "source": [
        "print(A23)"
      ],
      "id": "LQzTsr2LxO05",
      "execution_count": null,
      "outputs": []
    },
    {
      "cell_type": "code",
      "metadata": {
        "id": "f4PoAxKhxO05"
      },
      "source": [
        "print(A23.shape)  # (2, 3)"
      ],
      "id": "f4PoAxKhxO05",
      "execution_count": null,
      "outputs": []
    },
    {
      "cell_type": "code",
      "metadata": {
        "id": "g2hZD0YrxO06"
      },
      "source": [
        "print(A23.ndim)   # 2"
      ],
      "id": "g2hZD0YrxO06",
      "execution_count": null,
      "outputs": []
    },
    {
      "cell_type": "code",
      "metadata": {
        "id": "-4NneirnxO07"
      },
      "source": [
        "A31 = np.array([[1],\n",
        "                [2],\n",
        "                [3]])  # (3,1)"
      ],
      "id": "-4NneirnxO07",
      "execution_count": null,
      "outputs": []
    },
    {
      "cell_type": "code",
      "metadata": {
        "id": "rhhPUnI-xO07"
      },
      "source": [
        "print(A31)"
      ],
      "id": "rhhPUnI-xO07",
      "execution_count": null,
      "outputs": []
    },
    {
      "cell_type": "code",
      "metadata": {
        "id": "SiKyDFAuxO08"
      },
      "source": [
        "print(A31.shape)  # (3, 1)"
      ],
      "id": "SiKyDFAuxO08",
      "execution_count": null,
      "outputs": []
    },
    {
      "cell_type": "code",
      "metadata": {
        "id": "Wfeq0fqtxO0-"
      },
      "source": [
        "print(A31.ndim)   # 2"
      ],
      "id": "Wfeq0fqtxO0-",
      "execution_count": null,
      "outputs": []
    },
    {
      "cell_type": "markdown",
      "metadata": {
        "id": "MdE7oB9hxO0-"
      },
      "source": [
        "## 10) Matrix Multiplication — (2×2) @ (2×2) → (2×2)"
      ],
      "id": "MdE7oB9hxO0-"
    },
    {
      "cell_type": "code",
      "metadata": {
        "id": "XNdWONg6xO0_"
      },
      "source": [
        "a = np.array([[1, 2],\n",
        "              [3, 4]])  # (2,2)"
      ],
      "id": "XNdWONg6xO0_",
      "execution_count": null,
      "outputs": []
    },
    {
      "cell_type": "code",
      "metadata": {
        "id": "VwlaEM95xO0_"
      },
      "source": [
        "print(a)"
      ],
      "id": "VwlaEM95xO0_",
      "execution_count": null,
      "outputs": []
    },
    {
      "cell_type": "code",
      "metadata": {
        "id": "VLTR-t0pxO0_"
      },
      "source": [
        "print(a.shape)"
      ],
      "id": "VLTR-t0pxO0_",
      "execution_count": null,
      "outputs": []
    },
    {
      "cell_type": "code",
      "metadata": {
        "id": "MHxGXzT4xO0_"
      },
      "source": [
        "print(a.ndim)"
      ],
      "id": "MHxGXzT4xO0_",
      "execution_count": null,
      "outputs": []
    },
    {
      "cell_type": "code",
      "metadata": {
        "id": "YW12bVgjxO1A"
      },
      "source": [
        "b = np.array([[5, 6],\n",
        "              [7, 8]])  # (2,2)"
      ],
      "id": "YW12bVgjxO1A",
      "execution_count": null,
      "outputs": []
    },
    {
      "cell_type": "code",
      "metadata": {
        "id": "czdweACJxO1B"
      },
      "source": [
        "print(b)"
      ],
      "id": "czdweACJxO1B",
      "execution_count": null,
      "outputs": []
    },
    {
      "cell_type": "code",
      "metadata": {
        "id": "KrMlskKTxO1B"
      },
      "source": [
        "print(b.shape)"
      ],
      "id": "KrMlskKTxO1B",
      "execution_count": null,
      "outputs": []
    },
    {
      "cell_type": "code",
      "metadata": {
        "id": "B4FVSj_2xO1B"
      },
      "source": [
        "print(b.ndim)"
      ],
      "id": "B4FVSj_2xO1B",
      "execution_count": null,
      "outputs": []
    },
    {
      "cell_type": "code",
      "metadata": {
        "id": "83yfRJYbxO1C"
      },
      "source": [
        "c = a @ b"
      ],
      "id": "83yfRJYbxO1C",
      "execution_count": null,
      "outputs": []
    },
    {
      "cell_type": "code",
      "metadata": {
        "id": "gJo5rfwSxO1C"
      },
      "source": [
        "print(c)"
      ],
      "id": "gJo5rfwSxO1C",
      "execution_count": null,
      "outputs": []
    },
    {
      "cell_type": "code",
      "metadata": {
        "id": "LzJyMpkpxO1C"
      },
      "source": [
        "print(c.shape)  # (2, 2)"
      ],
      "id": "LzJyMpkpxO1C",
      "execution_count": null,
      "outputs": []
    },
    {
      "cell_type": "markdown",
      "metadata": {
        "id": "sMm3Axv5xO1C"
      },
      "source": [
        "### (Optional) Inner dimensions must match"
      ],
      "id": "sMm3Axv5xO1C"
    },
    {
      "cell_type": "code",
      "metadata": {
        "id": "gFg1l2suxO1D"
      },
      "source": [
        "# Try uncommenting to see an error:\n",
        "# np.array([[1,2,3],[4,5,6]]) @ np.array([[1,2],[3,4]])  # (2×3) @ (2×2) -> mismatch"
      ],
      "id": "gFg1l2suxO1D",
      "execution_count": null,
      "outputs": []
    }
  ],
  "metadata": {
    "colab": {
      "provenance": []
    },
    "kernelspec": {
      "name": "python3",
      "display_name": "Python 3"
    },
    "language_info": {
      "name": "python",
      "version": "3.x"
    }
  },
  "nbformat": 4,
  "nbformat_minor": 5
}