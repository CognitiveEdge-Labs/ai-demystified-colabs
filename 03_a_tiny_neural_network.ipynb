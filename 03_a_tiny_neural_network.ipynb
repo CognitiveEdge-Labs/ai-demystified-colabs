{
  "cells": [
    {
      "cell_type": "markdown",
      "metadata": {
        "id": "Eja6zvgqiReq"
      },
      "source": [
        "\n",
        "# Lab-03 — A Tiny Neural Network\n",
        "**AI Demystified: Decoding Models, Compute, and Connectivity**\n",
        "\n",
        "Welcome! This lab walks you through **building** and **training** a very **small** **neural** **network**. You will see how data flows forward, how gradients flow backward and how learning happens step by step.\n",
        "\n",
        "\n",
        "**Problem & intuition.** We’ll teach a tiny neural net to perform a **majority-of-3** decision: given three binary inputs $(x_1, x_2, x_3)$, predict **1** if **at least two** are 1, else **0**.  \n",
        "**Formal rule:**\n",
        "$$\n",
        "y =\n",
        "\\begin{cases}\n",
        "1 & \\text{if } x_1 + x_2 + x_3 \\ge 2,\\\\\n",
        "0 & \\text{otherwise.}\n",
        "\\end{cases}\n",
        "$$\n",
        "**Analogy:** *Sensor voting* — motion, sound, light; alert if **two or more** agree.  \n",
        "We’ll **train on six patterns** and keep **two unseen** for a quick generalization check. With Keras, it’s simply: **build → compile → fit → evaluate**.\n",
        "\n",
        "**Data framing**\n",
        "- Inputs **X**: each example has 3 binary features → shape $(m, 3)$ where $m$ is the number of training examples  \n",
        "- Label **y**: majority target (0/1) → shape $(m, 1)$  \n",
        "- Goal: learn a function $f:\\{0,1\\}^3 \\to \\{0,1\\}$ such that $\\hat y = f(x_1,x_2,x_3)$ and ideally $\\hat y \\approx \\mathbf{1}[\\,x_1 + x_2 + x_3 \\ge 2\\,]$.\n",
        "\n",
        "**Intuition with concrete examples.** The label is the **majority** of the three bits (1 if \\(x_1+x_2+x_3 \\ge 2\\), else 0).\n",
        "\n",
        "**Training set (6 patterns):**\n",
        "- [0, 0, 1] → 0\n",
        "- [0, 1, 0] → 0\n",
        "- [1, 0, 0] → 0\n",
        "- [0, 1, 1] → 1\n",
        "- [1, 0, 1] → 1\n",
        "- [1, 1, 1] → 1\n",
        "\n",
        "**Unseen test set (2 patterns):**\n",
        "- [0, 0, 0] → 0\n",
        "- [1, 1, 0] → 1\n",
        "\n",
        "\n",
        "\n"
      ],
      "id": "Eja6zvgqiReq"
    },
    {
      "cell_type": "markdown",
      "metadata": {
        "id": "XDsH668iiRew"
      },
      "source": [
        "## 1) Setup"
      ],
      "id": "XDsH668iiRew"
    },
    {
      "cell_type": "code",
      "metadata": {
        "id": "kezzoMafiRex"
      },
      "source": [
        "import tensorflow as tf"
      ],
      "id": "kezzoMafiRex",
      "execution_count": null,
      "outputs": []
    },
    {
      "cell_type": "code",
      "metadata": {
        "id": "SYG3IqvriRez"
      },
      "source": [
        "print(tf.__version__)"
      ],
      "id": "SYG3IqvriRez",
      "execution_count": null,
      "outputs": []
    },
    {
      "cell_type": "code",
      "metadata": {
        "id": "g1Ha5CDJiRez"
      },
      "source": [
        "tf.random.set_seed(42)"
      ],
      "id": "g1Ha5CDJiRez",
      "execution_count": null,
      "outputs": []
    },
    {
      "cell_type": "markdown",
      "metadata": {
        "id": "w3iUnbs0iRez"
      },
      "source": [
        "## 2) Data — all 8 patterns; labels by the majority rule"
      ],
      "id": "w3iUnbs0iRez"
    },
    {
      "cell_type": "code",
      "metadata": {
        "id": "Vz3w4KSciRe0"
      },
      "source": [
        "\n",
        "X_all = tf.constant([\n",
        "    [0.,0.,0.],  # idx 0\n",
        "    [0.,0.,1.],  # idx 1\n",
        "    [0.,1.,0.],  # idx 2\n",
        "    [1.,0.,0.],  # idx 3\n",
        "    [0.,1.,1.],  # idx 4\n",
        "    [1.,0.,1.],  # idx 5\n",
        "    [1.,1.,0.],  # idx 6\n",
        "    [1.,1.,1.],  # idx 7\n",
        "], dtype=tf.float32)\n"
      ],
      "id": "Vz3w4KSciRe0",
      "execution_count": null,
      "outputs": []
    },
    {
      "cell_type": "code",
      "metadata": {
        "id": "8Fc0S5qViRe1"
      },
      "source": [
        "\n",
        "# y = 1 if at least two inputs are 1, else 0\n",
        "y_all = tf.cast(tf.reduce_sum(X_all, axis=1) >= 2.0, tf.float32)\n",
        "y_all = tf.reshape(y_all, (-1, 1))\n"
      ],
      "id": "8Fc0S5qViRe1",
      "execution_count": null,
      "outputs": []
    },
    {
      "cell_type": "code",
      "metadata": {
        "id": "M0nE_r7EiRe2"
      },
      "source": [
        "print(X_all.shape)"
      ],
      "id": "M0nE_r7EiRe2",
      "execution_count": null,
      "outputs": []
    },
    {
      "cell_type": "code",
      "metadata": {
        "id": "q5-A3tKRiRe2"
      },
      "source": [
        "print(y_all.shape)"
      ],
      "id": "q5-A3tKRiRe2",
      "execution_count": null,
      "outputs": []
    },
    {
      "cell_type": "code",
      "source": [
        "print(y_all)"
      ],
      "metadata": {
        "id": "MtDAUzt_m-Hj"
      },
      "id": "MtDAUzt_m-Hj",
      "execution_count": null,
      "outputs": []
    },
    {
      "cell_type": "markdown",
      "metadata": {
        "id": "Xs9OKU3IiRe3"
      },
      "source": [
        "## 3) Train/Test split — hold out two unseen patterns"
      ],
      "id": "Xs9OKU3IiRe3"
    },
    {
      "cell_type": "code",
      "metadata": {
        "id": "2kc9DiTwiRe3"
      },
      "source": [
        "train_idx = tf.constant([1,2,3,4,5,7])  # use 6 for training"
      ],
      "id": "2kc9DiTwiRe3",
      "execution_count": null,
      "outputs": []
    },
    {
      "cell_type": "code",
      "metadata": {
        "id": "xN_oB4IyiRe3"
      },
      "source": [
        "test_idx  = tf.constant([0,6])          # unseen: [0,0,0], [1,1,0]"
      ],
      "id": "xN_oB4IyiRe3",
      "execution_count": null,
      "outputs": []
    },
    {
      "cell_type": "code",
      "metadata": {
        "id": "1GoEP_cwiRe3"
      },
      "source": [
        "X_train = tf.gather(X_all, train_idx)"
      ],
      "id": "1GoEP_cwiRe3",
      "execution_count": null,
      "outputs": []
    },
    {
      "cell_type": "code",
      "metadata": {
        "id": "eVgBD2OIiRe4"
      },
      "source": [
        "y_train = tf.gather(y_all, train_idx)"
      ],
      "id": "eVgBD2OIiRe4",
      "execution_count": null,
      "outputs": []
    },
    {
      "cell_type": "code",
      "metadata": {
        "id": "LwphrqXziRe4"
      },
      "source": [
        "X_test  = tf.gather(X_all, test_idx)"
      ],
      "id": "LwphrqXziRe4",
      "execution_count": null,
      "outputs": []
    },
    {
      "cell_type": "code",
      "metadata": {
        "id": "Per26trViRe4"
      },
      "source": [
        "y_test  = tf.gather(y_all, test_idx)"
      ],
      "id": "Per26trViRe4",
      "execution_count": null,
      "outputs": []
    },
    {
      "cell_type": "code",
      "metadata": {
        "id": "mZ6-aMZ9iRe4"
      },
      "source": [
        "print(X_train.shape)"
      ],
      "id": "mZ6-aMZ9iRe4",
      "execution_count": null,
      "outputs": []
    },
    {
      "cell_type": "code",
      "metadata": {
        "id": "FDTp7ezwiRe4"
      },
      "source": [
        "print(X_test.shape)"
      ],
      "id": "FDTp7ezwiRe4",
      "execution_count": null,
      "outputs": []
    },
    {
      "cell_type": "markdown",
      "metadata": {
        "id": "SRd7PNTxiRe4"
      },
      "source": [
        "## 4) Build a tiny model — 3 → hidden → 1 (sigmoid)"
      ],
      "id": "SRd7PNTxiRe4"
    },
    {
      "cell_type": "code",
      "metadata": {
        "id": "3d0BsjdGiRe5"
      },
      "source": [
        "\n",
        "from tensorflow.keras import Sequential\n",
        "from tensorflow.keras.layers import Dense\n",
        "\n",
        "model = Sequential([\n",
        "    Dense(units=3, activation='relu', input_shape=(3,)),\n",
        "    Dense(units=1, activation='sigmoid'),\n",
        "])\n"
      ],
      "id": "3d0BsjdGiRe5",
      "execution_count": null,
      "outputs": []
    },
    {
      "cell_type": "code",
      "metadata": {
        "id": "-cU4xbLPiRe5"
      },
      "source": [
        "model.summary()"
      ],
      "id": "-cU4xbLPiRe5",
      "execution_count": null,
      "outputs": []
    },
    {
      "cell_type": "markdown",
      "metadata": {
        "id": "Bnf9dIppiRe5"
      },
      "source": [
        "## 5) Compile"
      ],
      "id": "Bnf9dIppiRe5"
    },
    {
      "cell_type": "code",
      "metadata": {
        "id": "cAPHpc9eiRe5"
      },
      "source": [
        "\n",
        "from tensorflow.keras.losses import BinaryCrossentropy\n",
        "model.compile(optimizer='adam', loss=BinaryCrossentropy(), metrics=['accuracy'])\n"
      ],
      "id": "cAPHpc9eiRe5",
      "execution_count": null,
      "outputs": []
    },
    {
      "cell_type": "markdown",
      "metadata": {
        "id": "6XkAj8AuiRe5"
      },
      "source": [
        "## 6) Train (few epochs; tiny data)"
      ],
      "id": "6XkAj8AuiRe5"
    },
    {
      "cell_type": "code",
      "metadata": {
        "id": "vWv_fu_UiRe5"
      },
      "source": [
        "history = model.fit(X_train, y_train, epochs=200, verbose=0)"
      ],
      "id": "vWv_fu_UiRe5",
      "execution_count": null,
      "outputs": []
    },
    {
      "cell_type": "code",
      "metadata": {
        "id": "PG07p6uCiRe5"
      },
      "source": [
        "print(history.history['loss'][0])"
      ],
      "id": "PG07p6uCiRe5",
      "execution_count": null,
      "outputs": []
    },
    {
      "cell_type": "code",
      "metadata": {
        "id": "4IbWdUl8iRe5"
      },
      "source": [
        "print(history.history['loss'][-1])"
      ],
      "id": "4IbWdUl8iRe5",
      "execution_count": null,
      "outputs": []
    },
    {
      "cell_type": "markdown",
      "metadata": {
        "id": "Im9hXd_BiRe6"
      },
      "source": [
        "## 7) Evaluate on unseen data"
      ],
      "id": "Im9hXd_BiRe6"
    },
    {
      "cell_type": "code",
      "metadata": {
        "id": "xVSgvl8FiRe6"
      },
      "source": [
        "loss, acc = model.evaluate(X_test, y_test, verbose=0)"
      ],
      "id": "xVSgvl8FiRe6",
      "execution_count": null,
      "outputs": []
    },
    {
      "cell_type": "code",
      "metadata": {
        "id": "qaPUq4e5iRe6"
      },
      "source": [
        "print(acc)"
      ],
      "id": "qaPUq4e5iRe6",
      "execution_count": null,
      "outputs": []
    },
    {
      "cell_type": "markdown",
      "metadata": {
        "id": "GjUZiMo0iRe6"
      },
      "source": [
        "## 8) Predictions on the two unseen patterns"
      ],
      "id": "GjUZiMo0iRe6"
    },
    {
      "cell_type": "code",
      "metadata": {
        "id": "FvB3hjOJiRe6"
      },
      "source": [
        "pred_test = model.predict(X_test, verbose=0)"
      ],
      "id": "FvB3hjOJiRe6",
      "execution_count": null,
      "outputs": []
    },
    {
      "cell_type": "code",
      "metadata": {
        "id": "cVS-kpcWiRe6"
      },
      "source": [
        "\n",
        "import numpy as np\n",
        "print(np.round(pred_test).astype(int).ravel().tolist())\n"
      ],
      "id": "cVS-kpcWiRe6",
      "execution_count": null,
      "outputs": []
    },
    {
      "cell_type": "markdown",
      "metadata": {
        "id": "AEh6sdKxiRe7"
      },
      "source": [
        "\n",
        "### Reference truth table (for discussion)\n",
        "\n",
        "| x₁ | x₂ | x₃ | y (majority ≥ 2) |\n",
        "|---:|---:|---:|:----------------:|\n",
        "| 0 | 0 | 0 | 0 |\n",
        "| 0 | 0 | 1 | 0 |\n",
        "| 0 | 1 | 0 | 0 |\n",
        "| 1 | 0 | 0 | 0 |\n",
        "| 0 | 1 | 1 | 1 |\n",
        "| 1 | 0 | 1 | 1 |\n",
        "| 1 | 1 | 0 | 1 |\n",
        "| 1 | 1 | 1 | 1 |\n"
      ],
      "id": "AEh6sdKxiRe7"
    },
    {
      "cell_type": "markdown",
      "metadata": {
        "id": "u_FoM4WUiRe7"
      },
      "source": [
        "\n",
        "## 9) Try it yourself (optional)\n",
        "\n",
        "- Change the hidden layer units from 3 → 5 and re-run Section 6–8.\n",
        "- Replace `relu` with `tanh` and observe any change in the final loss/accuracy.\n",
        "- Train on a different 6-pattern split and keep 2 unseen; does it still generalize?\n"
      ],
      "id": "u_FoM4WUiRe7"
    }
  ],
  "metadata": {
    "colab": {
      "provenance": []
    },
    "kernelspec": {
      "name": "python3",
      "display_name": "Python 3"
    },
    "language_info": {
      "name": "python",
      "version": "3.x"
    }
  },
  "nbformat": 4,
  "nbformat_minor": 5
}